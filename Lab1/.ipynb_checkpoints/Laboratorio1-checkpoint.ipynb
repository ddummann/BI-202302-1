{
 "cells": [
  {
   "cell_type": "code",
   "execution_count": 2,
   "id": "7661b879",
   "metadata": {},
   "outputs": [],
   "source": [
    "import sklearn\n",
    "import pandas as pd\n",
    "import numpy as np\n",
    "import matplotlib.pyplot as plt\n",
    "import seaborn as sns; sns.set()  # for plot styling\n",
    "\n",
    "from sklearn.cluster import KMeans\n",
    "from sklearn.metrics import silhouette_samples, silhouette_score\n",
    "from sklearn.preprocessing import MinMaxScaler\n",
    "from sklearn.preprocessing import StandardScaler\n",
    "from sklearn.preprocessing import OneHotEncoder\n",
    "\n",
    "from matplotlib import cm\n",
    "from mpl_toolkits.mplot3d import Axes3D # for 3D plots"
   ]
  },
  {
   "cell_type": "markdown",
   "id": "d0ba4f96",
   "metadata": {},
   "source": [
    "# Entendimiento de los datos"
   ]
  },
  {
   "cell_type": "code",
   "execution_count": 3,
   "id": "b481bc44",
   "metadata": {},
   "outputs": [],
   "source": [
    "import pandas as pd \n",
    "pd.set_option('display.max_columns', 25)\n",
    "pd.set_option('display.max_row', 50)\n",
    "\n",
    "np.random.seed(3301)\n",
    "\n",
    "%matplotlib inline\n",
    "import matplotlib.pyplot as plt\n"
   ]
  },
  {
   "cell_type": "code",
   "execution_count": 1,
   "id": "76fd1d0e",
   "metadata": {},
   "outputs": [],
   "source": [
    "#Ubicación de los datos \n",
    "\n",
    "#direccion carlos\n",
    "#db_location = './OneDrive/Documents/UNIVERSIDAD DE LOS ANDES/INTELIGENCIA DE NEGOCIO/Laboratorio1/202320_Laboratorio 1 - Agrupación_data_MovieAlpes_data.csv'\"\n",
    "\n",
    "#direccion ernesto\n",
    "db_location = '/Users/duman/Documents/universidad/7semestre/BI/BI-202302/Lab1/Data/OutputDatos.csv'"
   ]
  },
  {
   "cell_type": "code",
   "execution_count": 4,
   "id": "b2b5fe34",
   "metadata": {},
   "outputs": [],
   "source": [
    "#Cargar datos\n",
    "df_movil= pd.read_csv(db_location, sep=',', encoding = 'ISO-8859-1')"
   ]
  },
  {
   "cell_type": "code",
   "execution_count": 7,
   "id": "8b545c4e",
   "metadata": {},
   "outputs": [
    {
     "data": {
      "text/plain": [
       "(7462, 10)"
      ]
     },
     "execution_count": 7,
     "metadata": {},
     "output_type": "execute_result"
    }
   ],
   "source": [
    "#Dimension de los datos\n",
    "df_movil.shape"
   ]
  },
  {
   "cell_type": "code",
   "execution_count": 16,
   "id": "1a09d66e",
   "metadata": {},
   "outputs": [
    {
     "data": {
      "text/html": [
       "<div>\n",
       "<style scoped>\n",
       "    .dataframe tbody tr th:only-of-type {\n",
       "        vertical-align: middle;\n",
       "    }\n",
       "\n",
       "    .dataframe tbody tr th {\n",
       "        vertical-align: top;\n",
       "    }\n",
       "\n",
       "    .dataframe thead th {\n",
       "        text-align: right;\n",
       "    }\n",
       "</style>\n",
       "<table border=\"1\" class=\"dataframe\">\n",
       "  <thead>\n",
       "    <tr style=\"text-align: right;\">\n",
       "      <th></th>\n",
       "      <th>ï»¿tconst</th>\n",
       "      <th>titleType</th>\n",
       "      <th>originalTitle</th>\n",
       "      <th>startYear</th>\n",
       "      <th>runtimeMinutes</th>\n",
       "      <th>numVotes</th>\n",
       "      <th>ordering</th>\n",
       "      <th>region</th>\n",
       "      <th>main_genre</th>\n",
       "      <th>secondary_genre</th>\n",
       "    </tr>\n",
       "  </thead>\n",
       "  <tbody>\n",
       "    <tr>\n",
       "      <th>0</th>\n",
       "      <td>103064</td>\n",
       "      <td>movie</td>\n",
       "      <td>Terminator 2: Judgment Day</td>\n",
       "      <td>1991</td>\n",
       "      <td>137</td>\n",
       "      <td>1128166</td>\n",
       "      <td>17</td>\n",
       "      <td>US</td>\n",
       "      <td>Action</td>\n",
       "      <td>Sci-Fi</td>\n",
       "    </tr>\n",
       "    <tr>\n",
       "      <th>1</th>\n",
       "      <td>231050</td>\n",
       "      <td>tvSeries</td>\n",
       "      <td>ToransufÃÂ´mÃÂ¢: KÃÂ¢robotto</td>\n",
       "      <td>2000</td>\n",
       "      <td>22</td>\n",
       "      <td>577</td>\n",
       "      <td>16</td>\n",
       "      <td>US</td>\n",
       "      <td>Action</td>\n",
       "      <td>Adventure</td>\n",
       "    </tr>\n",
       "    <tr>\n",
       "      <th>2</th>\n",
       "      <td>253474</td>\n",
       "      <td>movie</td>\n",
       "      <td>The Pianist</td>\n",
       "      <td>2002</td>\n",
       "      <td>150</td>\n",
       "      <td>860569</td>\n",
       "      <td>7</td>\n",
       "      <td>US</td>\n",
       "      <td>Biography</td>\n",
       "      <td>Drama</td>\n",
       "    </tr>\n",
       "    <tr>\n",
       "      <th>3</th>\n",
       "      <td>369339</td>\n",
       "      <td>movie</td>\n",
       "      <td>Collateral</td>\n",
       "      <td>2004</td>\n",
       "      <td>120</td>\n",
       "      <td>417391</td>\n",
       "      <td>6</td>\n",
       "      <td>US</td>\n",
       "      <td>Action</td>\n",
       "      <td>Crime</td>\n",
       "    </tr>\n",
       "    <tr>\n",
       "      <th>4</th>\n",
       "      <td>439547</td>\n",
       "      <td>movie</td>\n",
       "      <td>2 Filhos de Francisco: A HistÃÂ³ria de ZezÃÂ...</td>\n",
       "      <td>2005</td>\n",
       "      <td>132</td>\n",
       "      <td>5946</td>\n",
       "      <td>5</td>\n",
       "      <td>US</td>\n",
       "      <td>Biography</td>\n",
       "      <td>Drama</td>\n",
       "    </tr>\n",
       "  </tbody>\n",
       "</table>\n",
       "</div>"
      ],
      "text/plain": [
       "   ï»¿tconst titleType                                      originalTitle  \\\n",
       "0     103064     movie                         Terminator 2: Judgment Day   \n",
       "1     231050  tvSeries                    ToransufÃÂ´mÃÂ¢: KÃÂ¢robotto   \n",
       "2     253474     movie                                        The Pianist   \n",
       "3     369339     movie                                         Collateral   \n",
       "4     439547     movie  2 Filhos de Francisco: A HistÃÂ³ria de ZezÃÂ...   \n",
       "\n",
       "   startYear  runtimeMinutes  numVotes  ordering region main_genre  \\\n",
       "0       1991             137   1128166        17     US     Action   \n",
       "1       2000              22       577        16     US     Action   \n",
       "2       2002             150    860569         7     US  Biography   \n",
       "3       2004             120    417391         6     US     Action   \n",
       "4       2005             132      5946         5     US  Biography   \n",
       "\n",
       "  secondary_genre  \n",
       "0          Sci-Fi  \n",
       "1       Adventure  \n",
       "2           Drama  \n",
       "3           Crime  \n",
       "4           Drama  "
      ]
     },
     "metadata": {},
     "output_type": "display_data"
    }
   ],
   "source": [
    "#Ver los datos \n",
    "#display(df_movil.sample(5))\n",
    "display(df_movil.head(5))\n",
    "#display(df_movil.tail(5))"
   ]
  },
  {
   "cell_type": "markdown",
   "id": "c3dae471",
   "metadata": {},
   "source": [
    "# Manipulación de los datos "
   ]
  },
  {
   "cell_type": "code",
   "execution_count": 17,
   "id": "61d10f57",
   "metadata": {},
   "outputs": [
    {
     "data": {
      "text/plain": [
       "ï»¿tconst           int64\n",
       "titleType          object\n",
       "originalTitle      object\n",
       "startYear           int64\n",
       "runtimeMinutes      int64\n",
       "numVotes            int64\n",
       "ordering            int64\n",
       "region             object\n",
       "main_genre         object\n",
       "secondary_genre    object\n",
       "dtype: object"
      ]
     },
     "execution_count": 17,
     "metadata": {},
     "output_type": "execute_result"
    }
   ],
   "source": [
    "df_movil.dtypes"
   ]
  },
  {
   "cell_type": "code",
   "execution_count": 18,
   "id": "3bce240b",
   "metadata": {},
   "outputs": [
    {
     "name": "stdout",
     "output_type": "stream",
     "text": [
      "<class 'pandas.core.frame.DataFrame'>\n",
      "RangeIndex: 7462 entries, 0 to 7461\n",
      "Data columns (total 10 columns):\n",
      " #   Column           Non-Null Count  Dtype \n",
      "---  ------           --------------  ----- \n",
      " 0   ï»¿tconst        7462 non-null   int64 \n",
      " 1   titleType        7462 non-null   object\n",
      " 2   originalTitle    7462 non-null   object\n",
      " 3   startYear        7462 non-null   int64 \n",
      " 4   runtimeMinutes   7462 non-null   int64 \n",
      " 5   numVotes         7462 non-null   int64 \n",
      " 6   ordering         7462 non-null   int64 \n",
      " 7   region           7462 non-null   object\n",
      " 8   main_genre       7462 non-null   object\n",
      " 9   secondary_genre  7462 non-null   object\n",
      "dtypes: int64(5), object(5)\n",
      "memory usage: 583.1+ KB\n"
     ]
    }
   ],
   "source": [
    "df_movil.info() "
   ]
  },
  {
   "cell_type": "code",
   "execution_count": 19,
   "id": "1fb7ef8e",
   "metadata": {},
   "outputs": [
    {
     "data": {
      "text/html": [
       "<div>\n",
       "<style scoped>\n",
       "    .dataframe tbody tr th:only-of-type {\n",
       "        vertical-align: middle;\n",
       "    }\n",
       "\n",
       "    .dataframe tbody tr th {\n",
       "        vertical-align: top;\n",
       "    }\n",
       "\n",
       "    .dataframe thead th {\n",
       "        text-align: right;\n",
       "    }\n",
       "</style>\n",
       "<table border=\"1\" class=\"dataframe\">\n",
       "  <thead>\n",
       "    <tr style=\"text-align: right;\">\n",
       "      <th></th>\n",
       "      <th>ï»¿tconst</th>\n",
       "      <th>startYear</th>\n",
       "      <th>runtimeMinutes</th>\n",
       "      <th>numVotes</th>\n",
       "      <th>ordering</th>\n",
       "    </tr>\n",
       "  </thead>\n",
       "  <tbody>\n",
       "    <tr>\n",
       "      <th>count</th>\n",
       "      <td>7.462000e+03</td>\n",
       "      <td>7462.000000</td>\n",
       "      <td>7462.000000</td>\n",
       "      <td>7.462000e+03</td>\n",
       "      <td>7462.00000</td>\n",
       "    </tr>\n",
       "    <tr>\n",
       "      <th>mean</th>\n",
       "      <td>4.796526e+06</td>\n",
       "      <td>2013.162557</td>\n",
       "      <td>100.792147</td>\n",
       "      <td>7.288656e+04</td>\n",
       "      <td>16.56312</td>\n",
       "    </tr>\n",
       "    <tr>\n",
       "      <th>std</th>\n",
       "      <td>4.832862e+06</td>\n",
       "      <td>6.977416</td>\n",
       "      <td>64.615235</td>\n",
       "      <td>1.641005e+05</td>\n",
       "      <td>12.75775</td>\n",
       "    </tr>\n",
       "    <tr>\n",
       "      <th>min</th>\n",
       "      <td>6.904900e+04</td>\n",
       "      <td>1990.000000</td>\n",
       "      <td>3.000000</td>\n",
       "      <td>1.000000e+01</td>\n",
       "      <td>1.00000</td>\n",
       "    </tr>\n",
       "    <tr>\n",
       "      <th>25%</th>\n",
       "      <td>9.958298e+05</td>\n",
       "      <td>2008.000000</td>\n",
       "      <td>60.000000</td>\n",
       "      <td>6.265250e+03</td>\n",
       "      <td>6.00000</td>\n",
       "    </tr>\n",
       "    <tr>\n",
       "      <th>50%</th>\n",
       "      <td>2.915788e+06</td>\n",
       "      <td>2015.000000</td>\n",
       "      <td>101.000000</td>\n",
       "      <td>1.527900e+04</td>\n",
       "      <td>14.00000</td>\n",
       "    </tr>\n",
       "    <tr>\n",
       "      <th>75%</th>\n",
       "      <td>7.639099e+06</td>\n",
       "      <td>2019.000000</td>\n",
       "      <td>122.000000</td>\n",
       "      <td>5.648475e+04</td>\n",
       "      <td>24.00000</td>\n",
       "    </tr>\n",
       "    <tr>\n",
       "      <th>max</th>\n",
       "      <td>2.822823e+07</td>\n",
       "      <td>2023.000000</td>\n",
       "      <td>990.000000</td>\n",
       "      <td>2.197234e+06</td>\n",
       "      <td>119.00000</td>\n",
       "    </tr>\n",
       "  </tbody>\n",
       "</table>\n",
       "</div>"
      ],
      "text/plain": [
       "          ï»¿tconst    startYear  runtimeMinutes      numVotes    ordering\n",
       "count  7.462000e+03  7462.000000     7462.000000  7.462000e+03  7462.00000\n",
       "mean   4.796526e+06  2013.162557      100.792147  7.288656e+04    16.56312\n",
       "std    4.832862e+06     6.977416       64.615235  1.641005e+05    12.75775\n",
       "min    6.904900e+04  1990.000000        3.000000  1.000000e+01     1.00000\n",
       "25%    9.958298e+05  2008.000000       60.000000  6.265250e+03     6.00000\n",
       "50%    2.915788e+06  2015.000000      101.000000  1.527900e+04    14.00000\n",
       "75%    7.639099e+06  2019.000000      122.000000  5.648475e+04    24.00000\n",
       "max    2.822823e+07  2023.000000      990.000000  2.197234e+06   119.00000"
      ]
     },
     "execution_count": 19,
     "metadata": {},
     "output_type": "execute_result"
    }
   ],
   "source": [
    "df_movil.describe()"
   ]
  },
  {
   "cell_type": "code",
   "execution_count": 1,
   "id": "86fb296d",
   "metadata": {},
   "outputs": [],
   "source": [
    "# EN EL DICCIONARIO DE DATOS \n",
    "#"
   ]
  },
  {
   "cell_type": "code",
   "execution_count": null,
   "id": "f44e8bd6",
   "metadata": {},
   "outputs": [],
   "source": []
  }
 ],
 "metadata": {
  "kernelspec": {
   "display_name": "Python 3 (ipykernel)",
   "language": "python",
   "name": "python3"
  },
  "language_info": {
   "codemirror_mode": {
    "name": "ipython",
    "version": 3
   },
   "file_extension": ".py",
   "mimetype": "text/x-python",
   "name": "python",
   "nbconvert_exporter": "python",
   "pygments_lexer": "ipython3",
   "version": "3.9.0"
  }
 },
 "nbformat": 4,
 "nbformat_minor": 5
}
