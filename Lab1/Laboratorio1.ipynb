{
 "cells": [
  {
   "cell_type": "code",
   "execution_count": 33,
   "id": "7661b879",
   "metadata": {},
   "outputs": [],
   "source": [
    "import sklearn\n",
    "import pandas as pd\n",
    "import numpy as np\n",
    "import matplotlib.pyplot as plt\n",
    "import seaborn as sns; sns.set()  # for plot styling\n",
    "\n",
    "from sklearn.cluster import KMeans\n",
    "from sklearn.metrics import silhouette_samples, silhouette_score\n",
    "from sklearn.preprocessing import MinMaxScaler\n",
    "from sklearn.preprocessing import StandardScaler\n",
    "from sklearn.preprocessing import OneHotEncoder\n",
    "from sklearn.preprocessing import LabelEncoder\n",
    "\n",
    "from matplotlib import cm\n",
    "from mpl_toolkits.mplot3d import Axes3D # for 3D plots"
   ]
  },
  {
   "cell_type": "markdown",
   "id": "029d8e74",
   "metadata": {},
   "source": [
    "#  1. Entendimiento de datos \n"
   ]
  },
  {
   "cell_type": "code",
   "execution_count": 2,
   "id": "b481bc44",
   "metadata": {},
   "outputs": [],
   "source": [
    "import pandas as pd \n",
    "pd.set_option('display.max_columns', 25)\n",
    "pd.set_option('display.max_row', 50)\n",
    "\n",
    "np.random.seed(3301)\n",
    "\n",
    "%matplotlib inline\n",
    "import matplotlib.pyplot as plt\n"
   ]
  },
  {
   "cell_type": "code",
   "execution_count": 3,
   "id": "76fd1d0e",
   "metadata": {},
   "outputs": [],
   "source": [
    "#Ubicación de los datos \n",
    "db_location = './Data/OutputDatos2.csv'"
   ]
  },
  {
   "cell_type": "code",
   "execution_count": 7,
   "id": "b2b5fe34",
   "metadata": {},
   "outputs": [],
   "source": [
    "#Cargar datos\n",
    "df_movil= pd.read_csv(db_location, sep=',', encoding = 'ISO-8859-1')"
   ]
  },
  {
   "cell_type": "code",
   "execution_count": 8,
   "id": "8b545c4e",
   "metadata": {},
   "outputs": [
    {
     "data": {
      "text/plain": [
       "(5121, 9)"
      ]
     },
     "execution_count": 8,
     "metadata": {},
     "output_type": "execute_result"
    }
   ],
   "source": [
    "#Dimension de los datos\n",
    "df_movil.shape"
   ]
  },
  {
   "cell_type": "code",
   "execution_count": 10,
   "id": "1a09d66e",
   "metadata": {},
   "outputs": [
    {
     "data": {
      "text/html": [
       "<div>\n",
       "<style scoped>\n",
       "    .dataframe tbody tr th:only-of-type {\n",
       "        vertical-align: middle;\n",
       "    }\n",
       "\n",
       "    .dataframe tbody tr th {\n",
       "        vertical-align: top;\n",
       "    }\n",
       "\n",
       "    .dataframe thead th {\n",
       "        text-align: right;\n",
       "    }\n",
       "</style>\n",
       "<table border=\"1\" class=\"dataframe\">\n",
       "  <thead>\n",
       "    <tr style=\"text-align: right;\">\n",
       "      <th></th>\n",
       "      <th>ï»¿titleType</th>\n",
       "      <th>startYear</th>\n",
       "      <th>runtimeMinutes</th>\n",
       "      <th>averageRating</th>\n",
       "      <th>numVotes</th>\n",
       "      <th>region</th>\n",
       "      <th>types</th>\n",
       "      <th>main_genre</th>\n",
       "      <th>secondary_genre</th>\n",
       "    </tr>\n",
       "  </thead>\n",
       "  <tbody>\n",
       "    <tr>\n",
       "      <th>1329</th>\n",
       "      <td>movie</td>\n",
       "      <td>2023</td>\n",
       "      <td>151</td>\n",
       "      <td>7,4</td>\n",
       "      <td>8895</td>\n",
       "      <td>IN</td>\n",
       "      <td>imdbDisplay</td>\n",
       "      <td>Action</td>\n",
       "      <td>Crime</td>\n",
       "    </tr>\n",
       "    <tr>\n",
       "      <th>4519</th>\n",
       "      <td>movie</td>\n",
       "      <td>2011</td>\n",
       "      <td>107</td>\n",
       "      <td>7,2</td>\n",
       "      <td>4011</td>\n",
       "      <td>CA</td>\n",
       "      <td>imdbDisplay</td>\n",
       "      <td>Comedy</td>\n",
       "      <td>Drama</td>\n",
       "    </tr>\n",
       "    <tr>\n",
       "      <th>192</th>\n",
       "      <td>movie</td>\n",
       "      <td>2002</td>\n",
       "      <td>117</td>\n",
       "      <td>6,7</td>\n",
       "      <td>226349</td>\n",
       "      <td>IN</td>\n",
       "      <td>imdbDisplay</td>\n",
       "      <td>Action</td>\n",
       "      <td>Horror</td>\n",
       "    </tr>\n",
       "    <tr>\n",
       "      <th>5063</th>\n",
       "      <td>movie</td>\n",
       "      <td>2018</td>\n",
       "      <td>230</td>\n",
       "      <td>7,8</td>\n",
       "      <td>7355</td>\n",
       "      <td>CA</td>\n",
       "      <td>imdbDisplay</td>\n",
       "      <td>Drama</td>\n",
       "      <td>No tiene</td>\n",
       "    </tr>\n",
       "    <tr>\n",
       "      <th>912</th>\n",
       "      <td>movie</td>\n",
       "      <td>2007</td>\n",
       "      <td>136</td>\n",
       "      <td>7,4</td>\n",
       "      <td>17099</td>\n",
       "      <td>IN</td>\n",
       "      <td>imdbDisplay</td>\n",
       "      <td>Action</td>\n",
       "      <td>Adventure</td>\n",
       "    </tr>\n",
       "  </tbody>\n",
       "</table>\n",
       "</div>"
      ],
      "text/plain": [
       "     ï»¿titleType  startYear  runtimeMinutes averageRating  numVotes region  \\\n",
       "1329        movie       2023             151           7,4      8895     IN   \n",
       "4519        movie       2011             107           7,2      4011     CA   \n",
       "192         movie       2002             117           6,7    226349     IN   \n",
       "5063        movie       2018             230           7,8      7355     CA   \n",
       "912         movie       2007             136           7,4     17099     IN   \n",
       "\n",
       "            types main_genre secondary_genre  \n",
       "1329  imdbDisplay     Action           Crime  \n",
       "4519  imdbDisplay     Comedy           Drama  \n",
       "192   imdbDisplay     Action          Horror  \n",
       "5063  imdbDisplay      Drama        No tiene  \n",
       "912   imdbDisplay     Action       Adventure  "
      ]
     },
     "metadata": {},
     "output_type": "display_data"
    },
    {
     "data": {
      "text/html": [
       "<div>\n",
       "<style scoped>\n",
       "    .dataframe tbody tr th:only-of-type {\n",
       "        vertical-align: middle;\n",
       "    }\n",
       "\n",
       "    .dataframe tbody tr th {\n",
       "        vertical-align: top;\n",
       "    }\n",
       "\n",
       "    .dataframe thead th {\n",
       "        text-align: right;\n",
       "    }\n",
       "</style>\n",
       "<table border=\"1\" class=\"dataframe\">\n",
       "  <thead>\n",
       "    <tr style=\"text-align: right;\">\n",
       "      <th></th>\n",
       "      <th>ï»¿titleType</th>\n",
       "      <th>startYear</th>\n",
       "      <th>runtimeMinutes</th>\n",
       "      <th>averageRating</th>\n",
       "      <th>numVotes</th>\n",
       "      <th>region</th>\n",
       "      <th>types</th>\n",
       "      <th>main_genre</th>\n",
       "      <th>secondary_genre</th>\n",
       "    </tr>\n",
       "  </thead>\n",
       "  <tbody>\n",
       "    <tr>\n",
       "      <th>0</th>\n",
       "      <td>movie</td>\n",
       "      <td>1991</td>\n",
       "      <td>137</td>\n",
       "      <td>8,6</td>\n",
       "      <td>1128166</td>\n",
       "      <td>US</td>\n",
       "      <td>dvd</td>\n",
       "      <td>Action</td>\n",
       "      <td>Sci-Fi</td>\n",
       "    </tr>\n",
       "    <tr>\n",
       "      <th>1</th>\n",
       "      <td>movie</td>\n",
       "      <td>2002</td>\n",
       "      <td>150</td>\n",
       "      <td>8,5</td>\n",
       "      <td>860569</td>\n",
       "      <td>US</td>\n",
       "      <td>imdbDisplay</td>\n",
       "      <td>Biography</td>\n",
       "      <td>Drama</td>\n",
       "    </tr>\n",
       "    <tr>\n",
       "      <th>2</th>\n",
       "      <td>movie</td>\n",
       "      <td>2004</td>\n",
       "      <td>120</td>\n",
       "      <td>7,5</td>\n",
       "      <td>417391</td>\n",
       "      <td>US</td>\n",
       "      <td>imdbDisplay</td>\n",
       "      <td>Action</td>\n",
       "      <td>Crime</td>\n",
       "    </tr>\n",
       "    <tr>\n",
       "      <th>3</th>\n",
       "      <td>movie</td>\n",
       "      <td>2005</td>\n",
       "      <td>132</td>\n",
       "      <td>6,9</td>\n",
       "      <td>5946</td>\n",
       "      <td>US</td>\n",
       "      <td>imdbDisplay</td>\n",
       "      <td>Biography</td>\n",
       "      <td>Drama</td>\n",
       "    </tr>\n",
       "    <tr>\n",
       "      <th>4</th>\n",
       "      <td>movie</td>\n",
       "      <td>2013</td>\n",
       "      <td>117</td>\n",
       "      <td>7,9</td>\n",
       "      <td>502242</td>\n",
       "      <td>US</td>\n",
       "      <td>working</td>\n",
       "      <td>Biography</td>\n",
       "      <td>Drama</td>\n",
       "    </tr>\n",
       "  </tbody>\n",
       "</table>\n",
       "</div>"
      ],
      "text/plain": [
       "  ï»¿titleType  startYear  runtimeMinutes averageRating  numVotes region  \\\n",
       "0        movie       1991             137           8,6   1128166     US   \n",
       "1        movie       2002             150           8,5    860569     US   \n",
       "2        movie       2004             120           7,5    417391     US   \n",
       "3        movie       2005             132           6,9      5946     US   \n",
       "4        movie       2013             117           7,9    502242     US   \n",
       "\n",
       "         types main_genre secondary_genre  \n",
       "0          dvd     Action          Sci-Fi  \n",
       "1  imdbDisplay  Biography           Drama  \n",
       "2  imdbDisplay     Action           Crime  \n",
       "3  imdbDisplay  Biography           Drama  \n",
       "4      working  Biography           Drama  "
      ]
     },
     "metadata": {},
     "output_type": "display_data"
    }
   ],
   "source": [
    "#Ver los datos \n",
    "display(df_movil.sample(5))\n",
    "display(df_movil.head(5))\n",
    "#display(df_movil.tail(5))"
   ]
  },
  {
   "cell_type": "markdown",
   "id": "c3dae471",
   "metadata": {},
   "source": [
    "# Manipulación de los datos "
   ]
  },
  {
   "cell_type": "code",
   "execution_count": 11,
   "id": "61d10f57",
   "metadata": {},
   "outputs": [
    {
     "data": {
      "text/plain": [
       "ï»¿titleType       object\n",
       "startYear           int64\n",
       "runtimeMinutes      int64\n",
       "averageRating      object\n",
       "numVotes            int64\n",
       "region             object\n",
       "types              object\n",
       "main_genre         object\n",
       "secondary_genre    object\n",
       "dtype: object"
      ]
     },
     "execution_count": 11,
     "metadata": {},
     "output_type": "execute_result"
    }
   ],
   "source": [
    "df_movil.dtypes"
   ]
  },
  {
   "cell_type": "code",
   "execution_count": 12,
   "id": "3bce240b",
   "metadata": {},
   "outputs": [
    {
     "name": "stdout",
     "output_type": "stream",
     "text": [
      "<class 'pandas.core.frame.DataFrame'>\n",
      "RangeIndex: 5121 entries, 0 to 5120\n",
      "Data columns (total 9 columns):\n",
      " #   Column           Non-Null Count  Dtype \n",
      "---  ------           --------------  ----- \n",
      " 0   ï»¿titleType     5121 non-null   object\n",
      " 1   startYear        5121 non-null   int64 \n",
      " 2   runtimeMinutes   5121 non-null   int64 \n",
      " 3   averageRating    5121 non-null   object\n",
      " 4   numVotes         5121 non-null   int64 \n",
      " 5   region           5121 non-null   object\n",
      " 6   types            5121 non-null   object\n",
      " 7   main_genre       5121 non-null   object\n",
      " 8   secondary_genre  5121 non-null   object\n",
      "dtypes: int64(3), object(6)\n",
      "memory usage: 360.2+ KB\n"
     ]
    }
   ],
   "source": [
    "df_movil.info() "
   ]
  },
  {
   "cell_type": "code",
   "execution_count": 16,
   "id": "1fb7ef8e",
   "metadata": {},
   "outputs": [
    {
     "data": {
      "text/html": [
       "<div>\n",
       "<style scoped>\n",
       "    .dataframe tbody tr th:only-of-type {\n",
       "        vertical-align: middle;\n",
       "    }\n",
       "\n",
       "    .dataframe tbody tr th {\n",
       "        vertical-align: top;\n",
       "    }\n",
       "\n",
       "    .dataframe thead th {\n",
       "        text-align: right;\n",
       "    }\n",
       "</style>\n",
       "<table border=\"1\" class=\"dataframe\">\n",
       "  <thead>\n",
       "    <tr style=\"text-align: right;\">\n",
       "      <th></th>\n",
       "      <th>startYear</th>\n",
       "      <th>runtimeMinutes</th>\n",
       "      <th>numVotes</th>\n",
       "    </tr>\n",
       "  </thead>\n",
       "  <tbody>\n",
       "    <tr>\n",
       "      <th>count</th>\n",
       "      <td>5121.000000</td>\n",
       "      <td>5121.000000</td>\n",
       "      <td>5.121000e+03</td>\n",
       "    </tr>\n",
       "    <tr>\n",
       "      <th>mean</th>\n",
       "      <td>2012.859402</td>\n",
       "      <td>122.964851</td>\n",
       "      <td>8.773649e+04</td>\n",
       "    </tr>\n",
       "    <tr>\n",
       "      <th>std</th>\n",
       "      <td>6.925705</td>\n",
       "      <td>56.565700</td>\n",
       "      <td>1.831364e+05</td>\n",
       "    </tr>\n",
       "    <tr>\n",
       "      <th>min</th>\n",
       "      <td>1990.000000</td>\n",
       "      <td>4.000000</td>\n",
       "      <td>1.000000e+01</td>\n",
       "    </tr>\n",
       "    <tr>\n",
       "      <th>25%</th>\n",
       "      <td>2008.000000</td>\n",
       "      <td>99.000000</td>\n",
       "      <td>6.667000e+03</td>\n",
       "    </tr>\n",
       "    <tr>\n",
       "      <th>50%</th>\n",
       "      <td>2014.000000</td>\n",
       "      <td>112.000000</td>\n",
       "      <td>1.787300e+04</td>\n",
       "    </tr>\n",
       "    <tr>\n",
       "      <th>75%</th>\n",
       "      <td>2019.000000</td>\n",
       "      <td>131.000000</td>\n",
       "      <td>7.442700e+04</td>\n",
       "    </tr>\n",
       "    <tr>\n",
       "      <th>max</th>\n",
       "      <td>2023.000000</td>\n",
       "      <td>990.000000</td>\n",
       "      <td>2.197234e+06</td>\n",
       "    </tr>\n",
       "  </tbody>\n",
       "</table>\n",
       "</div>"
      ],
      "text/plain": [
       "         startYear  runtimeMinutes      numVotes\n",
       "count  5121.000000     5121.000000  5.121000e+03\n",
       "mean   2012.859402      122.964851  8.773649e+04\n",
       "std       6.925705       56.565700  1.831364e+05\n",
       "min    1990.000000        4.000000  1.000000e+01\n",
       "25%    2008.000000       99.000000  6.667000e+03\n",
       "50%    2014.000000      112.000000  1.787300e+04\n",
       "75%    2019.000000      131.000000  7.442700e+04\n",
       "max    2023.000000      990.000000  2.197234e+06"
      ]
     },
     "execution_count": 16,
     "metadata": {},
     "output_type": "execute_result"
    }
   ],
   "source": [
    "df_movil.describe()"
   ]
  },
  {
   "cell_type": "code",
   "execution_count": 31,
   "id": "61d70903",
   "metadata": {},
   "outputs": [
    {
     "data": {
      "text/html": [
       "<div>\n",
       "<style scoped>\n",
       "    .dataframe tbody tr th:only-of-type {\n",
       "        vertical-align: middle;\n",
       "    }\n",
       "\n",
       "    .dataframe tbody tr th {\n",
       "        vertical-align: top;\n",
       "    }\n",
       "\n",
       "    .dataframe thead th {\n",
       "        text-align: right;\n",
       "    }\n",
       "</style>\n",
       "<table border=\"1\" class=\"dataframe\">\n",
       "  <thead>\n",
       "    <tr style=\"text-align: right;\">\n",
       "      <th></th>\n",
       "      <th>ï»¿titleType</th>\n",
       "      <th>averageRating</th>\n",
       "      <th>region</th>\n",
       "      <th>types</th>\n",
       "      <th>main_genre</th>\n",
       "      <th>secondary_genre</th>\n",
       "    </tr>\n",
       "  </thead>\n",
       "  <tbody>\n",
       "    <tr>\n",
       "      <th>count</th>\n",
       "      <td>5121</td>\n",
       "      <td>5121</td>\n",
       "      <td>5121</td>\n",
       "      <td>5121</td>\n",
       "      <td>5121</td>\n",
       "      <td>5121</td>\n",
       "    </tr>\n",
       "    <tr>\n",
       "      <th>unique</th>\n",
       "      <td>3</td>\n",
       "      <td>30</td>\n",
       "      <td>4</td>\n",
       "      <td>5</td>\n",
       "      <td>19</td>\n",
       "      <td>22</td>\n",
       "    </tr>\n",
       "    <tr>\n",
       "      <th>top</th>\n",
       "      <td>movie</td>\n",
       "      <td>6,7</td>\n",
       "      <td>IN</td>\n",
       "      <td>imdbDisplay</td>\n",
       "      <td>Drama</td>\n",
       "      <td>Drama</td>\n",
       "    </tr>\n",
       "    <tr>\n",
       "      <th>freq</th>\n",
       "      <td>4672</td>\n",
       "      <td>398</td>\n",
       "      <td>3596</td>\n",
       "      <td>5055</td>\n",
       "      <td>1322</td>\n",
       "      <td>1672</td>\n",
       "    </tr>\n",
       "  </tbody>\n",
       "</table>\n",
       "</div>"
      ],
      "text/plain": [
       "       ï»¿titleType averageRating region        types main_genre  \\\n",
       "count          5121          5121   5121         5121       5121   \n",
       "unique            3            30      4            5         19   \n",
       "top           movie           6,7     IN  imdbDisplay      Drama   \n",
       "freq           4672           398   3596         5055       1322   \n",
       "\n",
       "       secondary_genre  \n",
       "count             5121  \n",
       "unique              22  \n",
       "top              Drama  \n",
       "freq              1672  "
      ]
     },
     "execution_count": 31,
     "metadata": {},
     "output_type": "execute_result"
    }
   ],
   "source": [
    "data_objects = df_movil.select_dtypes(include = ['object']).columns\n",
    "df_movil[data_objects].describe()"
   ]
  },
  {
   "cell_type": "code",
   "execution_count": 34,
   "id": "bd93b6a3",
   "metadata": {},
   "outputs": [],
   "source": [
    "for o  in data_objects:\n",
    "    le = LabelEncoder()\n",
    "    le.fit(df_movil[o])\n",
    "    df_movil[o] = le.transform(df_movil[o])"
   ]
  },
  {
   "cell_type": "code",
   "execution_count": 35,
   "id": "1753a4c5",
   "metadata": {},
   "outputs": [
    {
     "name": "stdout",
     "output_type": "stream",
     "text": [
      "<class 'pandas.core.frame.DataFrame'>\n",
      "RangeIndex: 5121 entries, 0 to 5120\n",
      "Data columns (total 10 columns):\n",
      " #   Column           Non-Null Count  Dtype\n",
      "---  ------           --------------  -----\n",
      " 0   ï»¿titleType     5121 non-null   int32\n",
      " 1   startYear        5121 non-null   int64\n",
      " 2   runtimeMinutes   5121 non-null   int64\n",
      " 3   averageRating    5121 non-null   int32\n",
      " 4   numVotes         5121 non-null   int64\n",
      " 5   region           5121 non-null   int32\n",
      " 6   types            5121 non-null   int32\n",
      " 7   main_genre       5121 non-null   int32\n",
      " 8   secondary_genre  5121 non-null   int32\n",
      " 9   Cluster          5121 non-null   int64\n",
      "dtypes: int32(6), int64(4)\n",
      "memory usage: 280.2 KB\n"
     ]
    }
   ],
   "source": [
    "df_movil.info()"
   ]
  },
  {
   "cell_type": "markdown",
   "id": "465becf6",
   "metadata": {},
   "source": [
    "# Modelamiento clustering jerarquico "
   ]
  },
  {
   "cell_type": "code",
   "execution_count": 36,
   "id": "eb4ae90b",
   "metadata": {},
   "outputs": [],
   "source": [
    "# Importa las bibliotecas necesarias\n",
    "import pandas as pd\n",
    "import numpy as np\n",
    "from sklearn.preprocessing import StandardScaler\n",
    "from sklearn.cluster import AgglomerativeClustering\n",
    "import matplotlib.pyplot as plt\n",
    "import scipy.cluster.hierarchy as sch\n",
    "\n",
    "# Selecciona las columnas que deseas utilizar para el clustering\n",
    "features = ['startYear', 'runtimeMinutes','averageRating','numVotes']\n",
    "X = df_movil[features]"
   ]
  },
  {
   "cell_type": "code",
   "execution_count": 37,
   "id": "a9dcdf26",
   "metadata": {},
   "outputs": [],
   "source": [
    "# Normaliza los datos para que todas las características tengan la misma escala\n",
    "scaler = StandardScaler()\n",
    "X_scaled = scaler.fit_transform(X)"
   ]
  },
  {
   "cell_type": "code",
   "execution_count": 38,
   "id": "0c6dd0ec",
   "metadata": {},
   "outputs": [
    {
     "data": {
      "image/png": "[encoded data removed]",
      "text/plain": [
       "<Figure size 640x480 with 1 Axes>"
      ]
     },
     "metadata": {},
     "output_type": "display_data"
    }
   ],
   "source": [
    "\n",
    "# Usar dendrograma para determinar el número óptimo de clústeres\n",
    "dendrogram = sch.dendrogram(sch.linkage(X_scaled, method='ward'))\n",
    "plt.title('Dendrograma')\n",
    "plt.xlabel('Registros')\n",
    "plt.ylabel('Distancia Euclidiana')\n",
    "plt.show()\n"
   ]
  },
  {
   "cell_type": "code",
   "execution_count": 48,
   "id": "3f6d15f4",
   "metadata": {},
   "outputs": [],
   "source": [
    "# Basado en el dendrograma, eligimo el número óptimo de clústeres pero no entiendo bien como analizamos el dendrograma\n",
    "# Luego podemos ir ajustando el modelo de clustering\n",
    "num_clusters = 4  # Cambia esto según como elegimos a partir del dendrograma"
   ]
  },
  {
   "cell_type": "code",
   "execution_count": 40,
   "id": "26b0d021",
   "metadata": {},
   "outputs": [
    {
     "name": "stderr",
     "output_type": "stream",
     "text": [
      "C:\\ProgramData\\anaconda3\\Lib\\site-packages\\sklearn\\cluster\\_agglomerative.py:1005: FutureWarning: Attribute `affinity` was deprecated in version 1.2 and will be removed in 1.4. Use `metric` instead\n",
      "  warnings.warn(\n"
     ]
    }
   ],
   "source": [
    "# Ajustamos el modelo de clustering jerárquico\n",
    "model = AgglomerativeClustering(n_clusters=num_clusters, linkage='ward', affinity='euclidean')\n",
    "clusters = model.fit_predict(X_scaled)\n"
   ]
  },
  {
   "cell_type": "code",
   "execution_count": 41,
   "id": "6b763d5e",
   "metadata": {},
   "outputs": [],
   "source": [
    "# Aniadimos o agregamos la columna de clústeres a los datos originales para que guarden los datos\n",
    "df_movil['Cluster'] = clusters"
   ]
  },
  {
   "cell_type": "code",
   "execution_count": 42,
   "id": "86fb296d",
   "metadata": {},
   "outputs": [
    {
     "name": "stdout",
     "output_type": "stream",
     "text": [
      "Cluster 1: 2452 registros\n",
      "Cluster 2: 2308 registros\n",
      "Cluster 3: 164 registros\n",
      "Cluster 4: 197 registros\n"
     ]
    }
   ],
   "source": [
    "# Visualiza los resultados \n",
    "for cluster_id in range(num_clusters):\n",
    "    cluster_data = df_movil[df_movil['Cluster'] == cluster_id]\n",
    "    print(f\"Cluster {cluster_id + 1}: {len(cluster_data)} registros\")\n"
   ]
  },
  {
   "cell_type": "code",
   "execution_count": 47,
   "id": "f44e8bd6",
   "metadata": {},
   "outputs": [
    {
     "name": "stdout",
     "output_type": "stream",
     "text": [
      "Estadísticas descriptivas para el Cluster 1:\n",
      "         startYear  runtimeMinutes  averageRating       numVotes\n",
      "count  2308.000000     2308.000000    2308.000000    2308.000000\n",
      "mean   2007.511265      113.186742       6.367851   86078.581889\n",
      "std       5.220691       25.230318       4.730477  124766.539602\n",
      "min    1990.000000       23.000000       0.000000      32.000000\n",
      "25%    2004.000000       97.000000       2.000000    8219.000000\n",
      "50%    2008.000000      108.500000       6.000000   25028.500000\n",
      "75%    2011.000000      124.000000       9.000000  102406.000000\n",
      "max    2022.000000      270.000000      25.000000  732151.000000\n",
      "\n",
      "Estadísticas descriptivas para el Cluster 2:\n",
      "         startYear  runtimeMinutes  averageRating       numVotes\n",
      "count   164.000000      164.000000     164.000000     164.000000\n",
      "mean   2016.914634      369.481707      12.865854   39697.371951\n",
      "std       6.655781      122.300769       6.889598   62575.473734\n",
      "min    1990.000000      216.000000       0.000000     639.000000\n",
      "25%    2016.000000      278.500000       8.000000    7764.500000\n",
      "50%    2019.000000      352.500000      12.000000   19178.500000\n",
      "75%    2021.000000      429.250000      18.000000   40159.000000\n",
      "max    2023.000000      990.000000      29.000000  487642.000000\n",
      "\n",
      "Estadísticas descriptivas para el Cluster 3:\n",
      "         startYear  runtimeMinutes  averageRating      numVotes\n",
      "count   197.000000      197.000000     197.000000  1.970000e+02\n",
      "mean   2007.248731      128.416244      14.121827  8.023753e+05\n",
      "std       7.004668       28.949804       4.573145  3.251586e+05\n",
      "min    1990.000000       60.000000       3.000000  4.023940e+05\n",
      "25%    2002.000000      108.000000      11.000000  5.993820e+05\n",
      "50%    2007.000000      125.000000      14.000000  7.031210e+05\n",
      "75%    2013.000000      143.000000      17.000000  8.724950e+05\n",
      "max    2022.000000      330.000000      28.000000  2.197234e+06\n",
      "\n",
      "Estadísticas descriptivas para el Cluster 4:\n",
      "       startYear  runtimeMinutes  averageRating  numVotes\n",
      "count        0.0             0.0            0.0       0.0\n",
      "mean         NaN             NaN            NaN       NaN\n",
      "std          NaN             NaN            NaN       NaN\n",
      "min          NaN             NaN            NaN       NaN\n",
      "25%          NaN             NaN            NaN       NaN\n",
      "50%          NaN             NaN            NaN       NaN\n",
      "75%          NaN             NaN            NaN       NaN\n",
      "max          NaN             NaN            NaN       NaN\n"
     ]
    }
   ],
   "source": [
    "\n",
    "import pandas as pd\n",
    "\n",
    "# Vamos a Filtrar los datos por cluster, vamos a ver los datos estadisticos por cada cluster\n",
    "cluster_1_data = df_movil[df_movil['Cluster'] == 1]\n",
    "cluster_2_data = df_movil[df_movil['Cluster'] == 2]\n",
    "cluster_3_data = df_movil[df_movil['Cluster'] == 3]\n",
    "cluster_4_data = df_movil[df_movil['Cluster'] == 4]\n",
    "\n",
    "\n",
    "# Estadísticas descriptivas para el Cluster 1\n",
    "stats_cluster_1 = cluster_1_data[['startYear', 'runtimeMinutes','averageRating','numVotes']].describe()\n",
    "\n",
    "# Estadísticas descriptivas para el Cluster 2\n",
    "stats_cluster_2 = cluster_2_data[['startYear', 'runtimeMinutes','averageRating','numVotes']].describe()\n",
    "\n",
    "# Estadísticas descriptivas para el Cluster 3\n",
    "stats_cluster_3 = cluster_3_data[['startYear', 'runtimeMinutes','averageRating','numVotes']].describe()\n",
    "\n",
    "stats_cluster_4 = cluster_4_data[['startYear', 'runtimeMinutes','averageRating','numVotes']].describe()\n",
    "\n",
    "# Imprimimos las estadísticas descriptivas para cada cluster\n",
    "print(\"Estadísticas descriptivas para el Cluster 1:\")\n",
    "print(stats_cluster_1)\n",
    "print(\"\\nEstadísticas descriptivas para el Cluster 2:\")\n",
    "print(stats_cluster_2)\n",
    "print(\"\\nEstadísticas descriptivas para el Cluster 3:\")\n",
    "print(stats_cluster_3)\n",
    "print(\"\\nEstadísticas descriptivas para el Cluster 4:\")\n",
    "print(stats_cluster_4)\n",
    "\n"
   ]
  },
  {
   "cell_type": "code",
   "execution_count": 46,
   "id": "b251e7f8",
   "metadata": {},
   "outputs": [
    {
     "data": {
      "image/png": "[encoded data removed]",
      "text/plain": [
       "<Figure size 1000x600 with 1 Axes>"
      ]
     },
     "metadata": {},
     "output_type": "display_data"
    }
   ],
   "source": [
    "import matplotlib.pyplot as plt\n",
    "from sklearn.decomposition import PCA\n",
    "\n",
    "#### analizando como funciona para ver los clusters\n",
    "\n",
    "\n",
    "\n",
    "\n",
    "\n",
    "# Reduce la dimensionalidad a 2 dimensiones utilizando PCA\n",
    "pca = PCA(n_components=2)\n",
    "X_pca = pca.fit_transform(X_scaled)\n",
    "\n",
    "# Crea un DataFrame con las proyecciones PCA y la etiqueta de cluster\n",
    "pca_df = pd.DataFrame(data={'PCA1': X_pca[:, 0], 'PCA2': X_pca[:, 1], 'Cluster': clusters})\n",
    "\n",
    "# Visualiza los clusters en un gráfico de dispersión\n",
    "plt.figure(figsize=(10, 6))\n",
    "for cluster_id in range(num_clusters):\n",
    "    cluster_data = pca_df[pca_df['Cluster'] == cluster_id]\n",
    "    plt.scatter(cluster_data['PCA1'], cluster_data['PCA2'], label=f'Cluster {cluster_id + 1}')\n",
    "\n",
    "plt.title('Visualización de Clusters (PCA)')\n",
    "plt.xlabel('Componente Principal 1 (PCA1)')\n",
    "plt.ylabel('Componente Principal 2 (PCA2)')\n",
    "plt.legend()\n",
    "plt.show()\n"
   ]
  },
  {
   "cell_type": "code",
   "execution_count": null,
   "id": "a67ce7dc",
   "metadata": {},
   "outputs": [],
   "source": []
  },
  {
   "cell_type": "code",
   "execution_count": null,
   "id": "3d81f151",
   "metadata": {},
   "outputs": [],
   "source": []
  }
 ],
 "metadata": {
  "kernelspec": {
   "display_name": "Python 3 (ipykernel)",
   "language": "python",
   "name": "python3"
  },
  "language_info": {
   "codemirror_mode": {
    "name": "ipython",
    "version": 3
   },
   "file_extension": ".py",
   "mimetype": "text/x-python",
   "name": "python",
   "nbconvert_exporter": "python",
   "pygments_lexer": "ipython3",
   "version": "3.11.4"
  }
 },
 "nbformat": 4,
 "nbformat_minor": 5
}
