{
 "cells": [
  {
   "cell_type": "code",
   "execution_count": 179,
   "metadata": {},
   "outputs": [],
   "source": [
    "import numpy as np\n",
    "import pandas as pd\n",
    "\n",
    "from joblib import dump, load\n",
    "\n",
    "import matplotlib.pyplot as plt\n",
    "import seaborn as sns\n",
    "\n",
    "from sklearn.model_selection import train_test_split\n",
    "from sklearn.linear_model import LinearRegression\n",
    "from sklearn.pipeline import Pipeline\n",
    "from sklearn.compose import ColumnTransformer\n",
    "from sklearn.preprocessing import StandardScaler\n",
    "from sklearn.preprocessing import PolynomialFeatures\n",
    "from sklearn.preprocessing import OneHotEncoder\n",
    "from sklearn.metrics import mean_absolute_error, mean_squared_error, r2_score\n",
    "\n",
    "import scipy.stats as stats"
   ]
  },
  {
   "cell_type": "code",
   "execution_count": 2,
   "metadata": {},
   "outputs": [],
   "source": [
    "pd.set_option('display.max_columns', None)\n",
    "pd.set_option('display.max_rows', 50)"
   ]
  },
  {
   "cell_type": "markdown",
   "metadata": {},
   "source": [
    "# 0. Carga de los datos"
   ]
  },
  {
   "cell_type": "code",
   "execution_count": 3,
   "metadata": {},
   "outputs": [
    {
     "name": "stdout",
     "output_type": "stream",
     "text": [
      "/Users/duman/Documents/universidad/7semestre/BI/BI-202302/Lab2\n"
     ]
    }
   ],
   "source": [
    "import os \n",
    "ruta = os.getcwd()\n",
    "print(ruta)"
   ]
  },
  {
   "cell_type": "code",
   "execution_count": 139,
   "metadata": {},
   "outputs": [],
   "source": [
    "df_laptops_train = pd.read_csv('./data/laptop_data_train.csv', sep=',', encoding='utf-8')"
   ]
  },
  {
   "cell_type": "code",
   "execution_count": 140,
   "metadata": {},
   "outputs": [
    {
     "data": {
      "text/plain": [
       "(1216, 14)"
      ]
     },
     "execution_count": 140,
     "metadata": {},
     "output_type": "execute_result"
    }
   ],
   "source": [
    "df_laptops_train.shape"
   ]
  },
  {
   "cell_type": "code",
   "execution_count": 141,
   "metadata": {},
   "outputs": [
    {
     "data": {
      "text/html": [
       "<div>\n",
       "<style scoped>\n",
       "    .dataframe tbody tr th:only-of-type {\n",
       "        vertical-align: middle;\n",
       "    }\n",
       "\n",
       "    .dataframe tbody tr th {\n",
       "        vertical-align: top;\n",
       "    }\n",
       "\n",
       "    .dataframe thead th {\n",
       "        text-align: right;\n",
       "    }\n",
       "</style>\n",
       "<table border=\"1\" class=\"dataframe\">\n",
       "  <thead>\n",
       "    <tr style=\"text-align: right;\">\n",
       "      <th></th>\n",
       "      <th>id</th>\n",
       "      <th>Company</th>\n",
       "      <th>TypeName</th>\n",
       "      <th>Ram</th>\n",
       "      <th>Weight</th>\n",
       "      <th>Price</th>\n",
       "      <th>TouchScreen</th>\n",
       "      <th>Ips</th>\n",
       "      <th>Ppi</th>\n",
       "      <th>Cpu_brand</th>\n",
       "      <th>HDD</th>\n",
       "      <th>SSD</th>\n",
       "      <th>Gpu_brand</th>\n",
       "      <th>Os</th>\n",
       "    </tr>\n",
       "  </thead>\n",
       "  <tbody>\n",
       "    <tr>\n",
       "      <th>892</th>\n",
       "      <td>1220</td>\n",
       "      <td>MSI</td>\n",
       "      <td>Gaming</td>\n",
       "      <td>8</td>\n",
       "      <td>2.20</td>\n",
       "      <td>11.272727</td>\n",
       "      <td>0</td>\n",
       "      <td>0</td>\n",
       "      <td>141.211998</td>\n",
       "      <td>Intel Core i7</td>\n",
       "      <td>1000.0</td>\n",
       "      <td>128</td>\n",
       "      <td>Nvidia</td>\n",
       "      <td>Windows</td>\n",
       "    </tr>\n",
       "    <tr>\n",
       "      <th>731</th>\n",
       "      <td>1049</td>\n",
       "      <td>Asus</td>\n",
       "      <td>Netbook</td>\n",
       "      <td>4</td>\n",
       "      <td>1.20</td>\n",
       "      <td>9.638174</td>\n",
       "      <td>0</td>\n",
       "      <td>0</td>\n",
       "      <td>135.094211</td>\n",
       "      <td>Other Intel Processor</td>\n",
       "      <td>0.0</td>\n",
       "      <td>0</td>\n",
       "      <td>Intel</td>\n",
       "      <td>Others</td>\n",
       "    </tr>\n",
       "    <tr>\n",
       "      <th>406</th>\n",
       "      <td>350</td>\n",
       "      <td>Dell</td>\n",
       "      <td>Notebook</td>\n",
       "      <td>16</td>\n",
       "      <td>2.06</td>\n",
       "      <td>11.590080</td>\n",
       "      <td>1</td>\n",
       "      <td>0</td>\n",
       "      <td>282.423996</td>\n",
       "      <td>Intel Core i7</td>\n",
       "      <td>0.0</td>\n",
       "      <td>512</td>\n",
       "      <td>Nvidia</td>\n",
       "      <td>Windows</td>\n",
       "    </tr>\n",
       "    <tr>\n",
       "      <th>564</th>\n",
       "      <td>325</td>\n",
       "      <td>Lenovo</td>\n",
       "      <td>Notebook</td>\n",
       "      <td>4</td>\n",
       "      <td>1.44</td>\n",
       "      <td>9.652315</td>\n",
       "      <td>0</td>\n",
       "      <td>0</td>\n",
       "      <td>111.935204</td>\n",
       "      <td>Other Intel Processor</td>\n",
       "      <td>0.0</td>\n",
       "      <td>0</td>\n",
       "      <td>Intel</td>\n",
       "      <td>Windows</td>\n",
       "    </tr>\n",
       "    <tr>\n",
       "      <th>446</th>\n",
       "      <td>776</td>\n",
       "      <td>Lenovo</td>\n",
       "      <td>Notebook</td>\n",
       "      <td>16</td>\n",
       "      <td>2.50</td>\n",
       "      <td>11.746206</td>\n",
       "      <td>0</td>\n",
       "      <td>0</td>\n",
       "      <td>282.423996</td>\n",
       "      <td>Intel Core i7</td>\n",
       "      <td>0.0</td>\n",
       "      <td>512</td>\n",
       "      <td>Nvidia</td>\n",
       "      <td>Windows</td>\n",
       "    </tr>\n",
       "  </tbody>\n",
       "</table>\n",
       "</div>"
      ],
      "text/plain": [
       "       id Company  TypeName  Ram  Weight      Price  TouchScreen  Ips  \\\n",
       "892  1220     MSI    Gaming    8    2.20  11.272727            0    0   \n",
       "731  1049    Asus   Netbook    4    1.20   9.638174            0    0   \n",
       "406   350    Dell  Notebook   16    2.06  11.590080            1    0   \n",
       "564   325  Lenovo  Notebook    4    1.44   9.652315            0    0   \n",
       "446   776  Lenovo  Notebook   16    2.50  11.746206            0    0   \n",
       "\n",
       "            Ppi              Cpu_brand     HDD  SSD Gpu_brand       Os  \n",
       "892  141.211998          Intel Core i7  1000.0  128    Nvidia  Windows  \n",
       "731  135.094211  Other Intel Processor     0.0    0     Intel   Others  \n",
       "406  282.423996          Intel Core i7     0.0  512    Nvidia  Windows  \n",
       "564  111.935204  Other Intel Processor     0.0    0     Intel  Windows  \n",
       "446  282.423996          Intel Core i7     0.0  512    Nvidia  Windows  "
      ]
     },
     "execution_count": 141,
     "metadata": {},
     "output_type": "execute_result"
    }
   ],
   "source": [
    "df_laptops_train.sample(5)"
   ]
  },
  {
   "cell_type": "code",
   "execution_count": 142,
   "metadata": {},
   "outputs": [],
   "source": [
    "df_laptops_unlabeled = pd.read_csv('./data/laptop_data_test_unlabeled.csv', sep=',', encoding='utf-8')"
   ]
  },
  {
   "cell_type": "code",
   "execution_count": 143,
   "metadata": {},
   "outputs": [
    {
     "data": {
      "text/plain": [
       "(64, 14)"
      ]
     },
     "execution_count": 143,
     "metadata": {},
     "output_type": "execute_result"
    }
   ],
   "source": [
    "df_laptops_unlabeled.shape"
   ]
  },
  {
   "cell_type": "code",
   "execution_count": 144,
   "metadata": {},
   "outputs": [
    {
     "data": {
      "text/html": [
       "<div>\n",
       "<style scoped>\n",
       "    .dataframe tbody tr th:only-of-type {\n",
       "        vertical-align: middle;\n",
       "    }\n",
       "\n",
       "    .dataframe tbody tr th {\n",
       "        vertical-align: top;\n",
       "    }\n",
       "\n",
       "    .dataframe thead th {\n",
       "        text-align: right;\n",
       "    }\n",
       "</style>\n",
       "<table border=\"1\" class=\"dataframe\">\n",
       "  <thead>\n",
       "    <tr style=\"text-align: right;\">\n",
       "      <th></th>\n",
       "      <th>id</th>\n",
       "      <th>Company</th>\n",
       "      <th>TypeName</th>\n",
       "      <th>Ram</th>\n",
       "      <th>Weight</th>\n",
       "      <th>TouchScreen</th>\n",
       "      <th>Ips</th>\n",
       "      <th>Ppi</th>\n",
       "      <th>Cpu_brand</th>\n",
       "      <th>HDD</th>\n",
       "      <th>SSD</th>\n",
       "      <th>Gpu_brand</th>\n",
       "      <th>Os</th>\n",
       "      <th>CalculatedPrice</th>\n",
       "    </tr>\n",
       "  </thead>\n",
       "  <tbody>\n",
       "    <tr>\n",
       "      <th>48</th>\n",
       "      <td>1110</td>\n",
       "      <td>HP</td>\n",
       "      <td>Notebook</td>\n",
       "      <td>8</td>\n",
       "      <td>1.16</td>\n",
       "      <td>1</td>\n",
       "      <td>0</td>\n",
       "      <td>276.053530</td>\n",
       "      <td>Other Intel Processor</td>\n",
       "      <td>0.0</td>\n",
       "      <td>256</td>\n",
       "      <td>Intel</td>\n",
       "      <td>Windows</td>\n",
       "      <td>NaN</td>\n",
       "    </tr>\n",
       "    <tr>\n",
       "      <th>38</th>\n",
       "      <td>1171</td>\n",
       "      <td>HP</td>\n",
       "      <td>Notebook</td>\n",
       "      <td>16</td>\n",
       "      <td>2.10</td>\n",
       "      <td>0</td>\n",
       "      <td>0</td>\n",
       "      <td>141.211998</td>\n",
       "      <td>Intel Core i7</td>\n",
       "      <td>0.0</td>\n",
       "      <td>512</td>\n",
       "      <td>Intel</td>\n",
       "      <td>Windows</td>\n",
       "      <td>NaN</td>\n",
       "    </tr>\n",
       "    <tr>\n",
       "      <th>20</th>\n",
       "      <td>1035</td>\n",
       "      <td>HP</td>\n",
       "      <td>Ultrabook</td>\n",
       "      <td>8</td>\n",
       "      <td>1.26</td>\n",
       "      <td>0</td>\n",
       "      <td>0</td>\n",
       "      <td>176.232574</td>\n",
       "      <td>Intel Core i7</td>\n",
       "      <td>0.0</td>\n",
       "      <td>256</td>\n",
       "      <td>Intel</td>\n",
       "      <td>Windows</td>\n",
       "      <td>NaN</td>\n",
       "    </tr>\n",
       "    <tr>\n",
       "      <th>60</th>\n",
       "      <td>750</td>\n",
       "      <td>Lenovo</td>\n",
       "      <td>Netbook</td>\n",
       "      <td>4</td>\n",
       "      <td>1.40</td>\n",
       "      <td>1</td>\n",
       "      <td>0</td>\n",
       "      <td>135.094211</td>\n",
       "      <td>Other Intel Processor</td>\n",
       "      <td>0.0</td>\n",
       "      <td>128</td>\n",
       "      <td>Intel</td>\n",
       "      <td>Windows</td>\n",
       "      <td>NaN</td>\n",
       "    </tr>\n",
       "    <tr>\n",
       "      <th>59</th>\n",
       "      <td>1088</td>\n",
       "      <td>HP</td>\n",
       "      <td>Notebook</td>\n",
       "      <td>4</td>\n",
       "      <td>1.29</td>\n",
       "      <td>0</td>\n",
       "      <td>0</td>\n",
       "      <td>276.053530</td>\n",
       "      <td>Other Intel Processor</td>\n",
       "      <td>0.0</td>\n",
       "      <td>0</td>\n",
       "      <td>Intel</td>\n",
       "      <td>Others</td>\n",
       "      <td>NaN</td>\n",
       "    </tr>\n",
       "  </tbody>\n",
       "</table>\n",
       "</div>"
      ],
      "text/plain": [
       "      id Company   TypeName  Ram  Weight  TouchScreen  Ips         Ppi  \\\n",
       "48  1110      HP   Notebook    8    1.16            1    0  276.053530   \n",
       "38  1171      HP   Notebook   16    2.10            0    0  141.211998   \n",
       "20  1035      HP  Ultrabook    8    1.26            0    0  176.232574   \n",
       "60   750  Lenovo    Netbook    4    1.40            1    0  135.094211   \n",
       "59  1088      HP   Notebook    4    1.29            0    0  276.053530   \n",
       "\n",
       "                Cpu_brand  HDD  SSD Gpu_brand       Os  CalculatedPrice  \n",
       "48  Other Intel Processor  0.0  256     Intel  Windows              NaN  \n",
       "38          Intel Core i7  0.0  512     Intel  Windows              NaN  \n",
       "20          Intel Core i7  0.0  256     Intel  Windows              NaN  \n",
       "60  Other Intel Processor  0.0  128     Intel  Windows              NaN  \n",
       "59  Other Intel Processor  0.0    0     Intel   Others              NaN  "
      ]
     },
     "execution_count": 144,
     "metadata": {},
     "output_type": "execute_result"
    }
   ],
   "source": [
    "df_laptops_unlabeled.sample(5)"
   ]
  },
  {
   "cell_type": "code",
   "execution_count": 145,
   "metadata": {},
   "outputs": [
    {
     "name": "stdout",
     "output_type": "stream",
     "text": [
      "<class 'pandas.core.frame.DataFrame'>\n",
      "RangeIndex: 1216 entries, 0 to 1215\n",
      "Data columns (total 14 columns):\n",
      " #   Column       Non-Null Count  Dtype  \n",
      "---  ------       --------------  -----  \n",
      " 0   id           1216 non-null   int64  \n",
      " 1   Company      1216 non-null   object \n",
      " 2   TypeName     1216 non-null   object \n",
      " 3   Ram          1216 non-null   int64  \n",
      " 4   Weight       1193 non-null   float64\n",
      " 5   Price        1201 non-null   float64\n",
      " 6   TouchScreen  1216 non-null   int64  \n",
      " 7   Ips          1216 non-null   int64  \n",
      " 8   Ppi          1204 non-null   float64\n",
      " 9   Cpu_brand    1216 non-null   object \n",
      " 10  HDD          1200 non-null   float64\n",
      " 11  SSD          1216 non-null   int64  \n",
      " 12  Gpu_brand    1216 non-null   object \n",
      " 13  Os           1216 non-null   object \n",
      "dtypes: float64(4), int64(5), object(5)\n",
      "memory usage: 133.1+ KB\n"
     ]
    }
   ],
   "source": [
    "df_laptops_train.info()"
   ]
  },
  {
   "cell_type": "code",
   "execution_count": 146,
   "metadata": {},
   "outputs": [
    {
     "name": "stdout",
     "output_type": "stream",
     "text": [
      "<class 'pandas.core.frame.DataFrame'>\n",
      "RangeIndex: 1216 entries, 0 to 1215\n",
      "Data columns (total 14 columns):\n",
      " #   Column       Non-Null Count  Dtype  \n",
      "---  ------       --------------  -----  \n",
      " 0   id           1216 non-null   int64  \n",
      " 1   Company      1216 non-null   object \n",
      " 2   TypeName     1216 non-null   object \n",
      " 3   Ram          1216 non-null   int64  \n",
      " 4   Weight       1193 non-null   float64\n",
      " 5   Price        1201 non-null   float64\n",
      " 6   TouchScreen  1216 non-null   int64  \n",
      " 7   Ips          1216 non-null   int64  \n",
      " 8   Ppi          1204 non-null   float64\n",
      " 9   Cpu_brand    1216 non-null   object \n",
      " 10  HDD          1200 non-null   float64\n",
      " 11  SSD          1216 non-null   int64  \n",
      " 12  Gpu_brand    1216 non-null   object \n",
      " 13  Os           1216 non-null   object \n",
      "dtypes: float64(4), int64(5), object(5)\n",
      "memory usage: 133.1+ KB\n"
     ]
    }
   ],
   "source": [
    "df_laptops_train.info()"
   ]
  },
  {
   "cell_type": "markdown",
   "metadata": {},
   "source": [
    "# 1. Entendimiento y limpieza de los datos"
   ]
  },
  {
   "cell_type": "code",
   "execution_count": 147,
   "metadata": {},
   "outputs": [],
   "source": [
    "# Eleccion de variables relevantes para calcular el precio de un computador\n",
    "features = [\n",
    "    'Company',\n",
    "    'TypeName',\n",
    "    'Ram',\n",
    "    'Weight',\n",
    "    'TouchScreen',\n",
    "    'Ips',\n",
    "    'Ppi',\n",
    "    'Cpu_brand',\n",
    "    'HDD',\n",
    "    'SSD',\n",
    "    'Gpu_brand',\n",
    "    'Os'\n",
    "]\n",
    "featuresCategoricas = ['Company', 'TypeName', 'TouchScreen', 'Ips', 'Cpu_brand', 'Gpu_brand', 'Os']\n",
    "featuresNumericas = ['Ram', 'Weight', 'Ppi', 'HDD', 'SSD']\n",
    "\n",
    "# Eliminar variables no en features (id)\n",
    "df_laptops_train = df_laptops_train[['Price'] + features]\n",
    "df_laptops_unlabeled = df_laptops_unlabeled[features]\n"
   ]
  },
  {
   "cell_type": "markdown",
   "metadata": {},
   "source": [
    "### 1.1. Verificacion de atributos de calidad de datos"
   ]
  },
  {
   "cell_type": "markdown",
   "metadata": {},
   "source": [
    "#### Consistencia: Valores únicos en las variables categóricas"
   ]
  },
  {
   "cell_type": "code",
   "execution_count": 148,
   "metadata": {},
   "outputs": [
    {
     "name": "stdout",
     "output_type": "stream",
     "text": [
      "Company: ['Lenovo' 'Dell' 'HP' 'Asus' 'Toshiba' 'Acer' 'MSI' 'Razer' 'Samsung'\n",
      " 'Chuwi' 'Microsoft' 'Mediacom' 'LG' 'Vero' 'Apple' 'Huawei' 'Xiaomi'\n",
      " 'Fujitsu' 'Google']\n",
      "TypeName: ['Notebook' 'Ultrabook' '2 in 1 Convertible' 'Gaming' 'Netbook'\n",
      " 'Workstation' '2 in 1 Convertible%%' 'Gaming%%' '&&Notebook'\n",
      " '&&Ultrabook' 'Notebook%%' '&&Gaming' '&&2 in 1 Convertible']\n",
      "TouchScreen: [0 1]\n",
      "Ips: [0 1]\n",
      "Cpu_brand: ['Intel Core i3' 'Intel Core i5' 'Intel Core i7' 'AMD Processor'\n",
      " 'Other Intel Processor']\n",
      "Gpu_brand: ['Intel' 'Nvidia' 'AMD' 'Intel%%' 'Nvidia%%' '&&Intel' '&&Nvidia' 'AMD%%'\n",
      " '&&AMD']\n",
      "Os: ['Others' 'Windows' 'Mac']\n"
     ]
    }
   ],
   "source": [
    "# verificar valores unicos en cada variable categorica\n",
    "for feature in featuresCategoricas:\n",
    "    print(f'{feature}: {df_laptops_train[feature].unique()}')"
   ]
  },
  {
   "cell_type": "markdown",
   "metadata": {},
   "source": [
    "**Resultados:** Se puede observar que las variables 'TypeName' y 'Gpu_brand' tienen valores con caracteres extraños. Se procederá a eliminarlos para corregir esta información."
   ]
  },
  {
   "cell_type": "code",
   "execution_count": 185,
   "metadata": {},
   "outputs": [],
   "source": [
    "# Eliminar caracteres \"&&\", \"%%\", en las variables categoricas 'TypeName' y 'Gpu_brand'\n",
    "df_laptops_train['TypeName'] = df_laptops_train['TypeName'].str.replace('&&', '').str.replace('%%', '')\n",
    "df_laptops_train['Gpu_brand'] = df_laptops_train['Gpu_brand'].str.replace('%%', '').str.replace('&&', '')\n"
   ]
  },
  {
   "cell_type": "code",
   "execution_count": 189,
   "metadata": {},
   "outputs": [
    {
     "name": "stdout",
     "output_type": "stream",
     "text": [
      "Company: ['HP' 'Lenovo' 'MSI' 'Asus' 'Acer' 'Toshiba' 'Dell' 'Mediacom']\n",
      "TypeName: ['Notebook' 'Gaming' 'Ultrabook' '2 in 1 Convertible' 'Netbook'\n",
      " '&&Notebook']\n",
      "TouchScreen: [0 1]\n",
      "Ips: [0 1]\n",
      "Cpu_brand: ['Intel Core i3' 'Intel Core i5' 'Intel Core i7' 'Other Intel Processor'\n",
      " 'AMD Processor']\n",
      "Gpu_brand: ['Intel' 'Nvidia' 'AMD']\n",
      "Os: ['Windows' 'Others']\n"
     ]
    }
   ],
   "source": [
    "# verificar valores unicos en cada variable categorica de datos de test\n",
    "for feature in featuresCategoricas:\n",
    "    print(f'{feature}: {df_laptops_unlabeled[feature].unique()}')\n",
    "    "
   ]
  },
  {
   "cell_type": "code",
   "execution_count": 190,
   "metadata": {},
   "outputs": [],
   "source": [
    "# Eliminar caracteres \"&&\", \"%%\", en las variables categoricas 'TypeName' y 'Gpu_brand' de datos de test\n",
    "df_laptops_unlabeled['TypeName'] = df_laptops_unlabeled['TypeName'].str.replace('&&', '').str.replace('%%', '')\n",
    "df_laptops_unlabeled['Gpu_brand'] = df_laptops_unlabeled['Gpu_brand'].str.replace('%%', '').str.replace('&&', '')"
   ]
  },
  {
   "cell_type": "code",
   "execution_count": 150,
   "metadata": {},
   "outputs": [
    {
     "name": "stdout",
     "output_type": "stream",
     "text": [
      "Company: ['Lenovo' 'Dell' 'HP' 'Asus' 'Toshiba' 'Acer' 'MSI' 'Razer' 'Samsung'\n",
      " 'Chuwi' 'Microsoft' 'Mediacom' 'LG' 'Vero' 'Apple' 'Huawei' 'Xiaomi'\n",
      " 'Fujitsu' 'Google']\n",
      "TypeName: ['Notebook' 'Ultrabook' '2 in 1 Convertible' 'Gaming' 'Netbook'\n",
      " 'Workstation']\n",
      "TouchScreen: [0 1]\n",
      "Ips: [0 1]\n",
      "Cpu_brand: ['Intel Core i3' 'Intel Core i5' 'Intel Core i7' 'AMD Processor'\n",
      " 'Other Intel Processor']\n",
      "Gpu_brand: ['Intel' 'Nvidia' 'AMD']\n",
      "Os: ['Others' 'Windows' 'Mac']\n"
     ]
    }
   ],
   "source": [
    "#Verificación de valores unicos en cada variable categorica luego de eliminar caracteres \"&&\", \"%%\"\n",
    "for feature in featuresCategoricas:\n",
    "    print(f'{feature}: {df_laptops_train[feature].unique()}')"
   ]
  },
  {
   "cell_type": "code",
   "execution_count": 191,
   "metadata": {},
   "outputs": [
    {
     "name": "stdout",
     "output_type": "stream",
     "text": [
      "Company: ['HP' 'Lenovo' 'MSI' 'Asus' 'Acer' 'Toshiba' 'Dell' 'Mediacom']\n",
      "TypeName: ['Notebook' 'Gaming' 'Ultrabook' '2 in 1 Convertible' 'Netbook']\n",
      "TouchScreen: [0 1]\n",
      "Ips: [0 1]\n",
      "Cpu_brand: ['Intel Core i3' 'Intel Core i5' 'Intel Core i7' 'Other Intel Processor'\n",
      " 'AMD Processor']\n",
      "Gpu_brand: ['Intel' 'Nvidia' 'AMD']\n",
      "Os: ['Windows' 'Others']\n"
     ]
    }
   ],
   "source": [
    "# Verificar valores unicos en cada variable categorica de datos de test luego de eliminar caracteres \"&&\", \"%%\"\n",
    "for feature in featuresCategoricas:\n",
    "    print(f'{feature}: {df_laptops_unlabeled[feature].unique()}')"
   ]
  },
  {
   "cell_type": "markdown",
   "metadata": {},
   "source": [
    "Se corrigieron los valores con caracteres extraños."
   ]
  },
  {
   "cell_type": "code",
   "execution_count": 195,
   "metadata": {},
   "outputs": [
    {
     "name": "stdout",
     "output_type": "stream",
     "text": [
      "Company: ['Lenovo' 'Dell' 'HP' 'Asus' 'Toshiba' 'Acer' 'MSI' 'Razer' 'Samsung'\n",
      " 'Chuwi' 'Microsoft' 'Mediacom' 'LG' 'Vero' 'Apple' 'Huawei' 'Xiaomi'\n",
      " 'Fujitsu' 'Google']\n",
      "Company: ['HP' 'Lenovo' 'MSI' 'Asus' 'Acer' 'Toshiba' 'Dell' 'Mediacom']\n",
      "Company: (19,)\n",
      "Company: (8,)\n",
      "------------------------\n",
      "TypeName: ['Notebook' 'Ultrabook' '2 in 1 Convertible' 'Gaming' 'Netbook'\n",
      " 'Workstation']\n",
      "TypeName: ['Notebook' 'Gaming' 'Ultrabook' '2 in 1 Convertible' 'Netbook']\n",
      "TypeName: (6,)\n",
      "TypeName: (5,)\n",
      "------------------------\n",
      "TouchScreen: [0 1]\n",
      "TouchScreen: [0 1]\n",
      "TouchScreen: (2,)\n",
      "TouchScreen: (2,)\n",
      "------------------------\n",
      "Ips: [0 1]\n",
      "Ips: [0 1]\n",
      "Ips: (2,)\n",
      "Ips: (2,)\n",
      "------------------------\n",
      "Cpu_brand: ['Intel Core i3' 'Intel Core i5' 'Intel Core i7' 'AMD Processor'\n",
      " 'Other Intel Processor']\n",
      "Cpu_brand: ['Intel Core i3' 'Intel Core i5' 'Intel Core i7' 'Other Intel Processor'\n",
      " 'AMD Processor']\n",
      "Cpu_brand: (5,)\n",
      "Cpu_brand: (5,)\n",
      "------------------------\n",
      "Gpu_brand: ['Intel' 'Nvidia' 'AMD']\n",
      "Gpu_brand: ['Intel' 'Nvidia' 'AMD']\n",
      "Gpu_brand: (3,)\n",
      "Gpu_brand: (3,)\n",
      "------------------------\n",
      "Os: ['Others' 'Windows' 'Mac']\n",
      "Os: ['Windows' 'Others']\n",
      "Os: (3,)\n",
      "Os: (2,)\n",
      "------------------------\n"
     ]
    }
   ],
   "source": [
    "# Función que compara la cantidad de valores únicos en cada variable categorica entre los datos de entrenamiento y los datos de test\n",
    "def compararValoresUnicos(df_train, df_test, featuresCategoricas):\n",
    "    for feature in featuresCategoricas:\n",
    "        print(f'{feature}: {df_train[feature].unique()}')\n",
    "        print(f'{feature}: {df_test[feature].unique()}')\n",
    "        print(f'{feature}: {df_train[feature].unique().shape}')\n",
    "        print(f'{feature}: {df_test[feature].unique().shape}')\n",
    "        print('------------------------')\n",
    "\n",
    "compararValoresUnicos(df_laptops_train, df_laptops_unlabeled, featuresCategoricas)\n",
    "    "
   ]
  },
  {
   "cell_type": "markdown",
   "metadata": {},
   "source": [
    "Se puede observar que el dataset de entrenamiento tiene más valores únicos en varias categorías que el dataset de prueba. Se procede a eliminar los valores únicos del dataset de entrenamiento que no se encuentran en el dataset de prueba. "
   ]
  },
  {
   "cell_type": "markdown",
   "metadata": {},
   "source": [
    "#### Completitud: Revisar valores nulos"
   ]
  },
  {
   "cell_type": "code",
   "execution_count": null,
   "metadata": {},
   "outputs": [],
   "source": [
    "# Revisión del porcentaje de valores nulos (vacíos) en cada columna\n",
    "\n",
    "df_laptops_train[['Price']+ features].isnull().sum() / df_laptops_train.shape[0]"
   ]
  },
  {
   "cell_type": "code",
   "execution_count": 153,
   "metadata": {},
   "outputs": [
    {
     "data": {
      "text/plain": [
       "(46, 13)"
      ]
     },
     "execution_count": 153,
     "metadata": {},
     "output_type": "execute_result"
    }
   ],
   "source": [
    "# Eliminar entradas con datos vacíos\n",
    "# Antes de realizar el drop, se genera un informe con los datos que se van a eliminar\n",
    "# .isnull() es igual a .isna()\n",
    "entradas_a_eliminar = df_laptops_train[df_laptops_train[['Price']+ features].isna().any(axis=1)]\n",
    "entradas_a_eliminar.to_csv('./data/entradas_a_eliminar.csv', sep=',', encoding='utf-8', index=False)\n",
    "\n",
    "#conocer entradas eliminadas\n",
    "entradas_a_eliminar.shape"
   ]
  },
  {
   "cell_type": "code",
   "execution_count": 154,
   "metadata": {},
   "outputs": [],
   "source": [
    "# Eliminar entradas con datos vacíos\n",
    "df_laptops_train = df_laptops_train.dropna(subset=['Price']+ features)\n",
    "df_laptops_test_unlabeled = df_laptops_unlabeled.dropna(subset=features)"
   ]
  },
  {
   "cell_type": "code",
   "execution_count": 155,
   "metadata": {},
   "outputs": [
    {
     "data": {
      "text/plain": [
       "(1170, 13)"
      ]
     },
     "execution_count": 155,
     "metadata": {},
     "output_type": "execute_result"
    }
   ],
   "source": [
    "df_laptops_train.shape"
   ]
  },
  {
   "cell_type": "code",
   "execution_count": 156,
   "metadata": {},
   "outputs": [
    {
     "data": {
      "text/plain": [
       "(63, 12)"
      ]
     },
     "execution_count": 156,
     "metadata": {},
     "output_type": "execute_result"
    }
   ],
   "source": [
    "df_laptops_test_unlabeled.shape"
   ]
  },
  {
   "cell_type": "code",
   "execution_count": 157,
   "metadata": {},
   "outputs": [
    {
     "name": "stdout",
     "output_type": "stream",
     "text": [
      "<class 'pandas.core.frame.DataFrame'>\n",
      "Index: 1170 entries, 0 to 1215\n",
      "Data columns (total 13 columns):\n",
      " #   Column       Non-Null Count  Dtype  \n",
      "---  ------       --------------  -----  \n",
      " 0   Price        1170 non-null   float64\n",
      " 1   Company      1170 non-null   object \n",
      " 2   TypeName     1170 non-null   object \n",
      " 3   Ram          1170 non-null   int64  \n",
      " 4   Weight       1170 non-null   float64\n",
      " 5   TouchScreen  1170 non-null   int64  \n",
      " 6   Ips          1170 non-null   int64  \n",
      " 7   Ppi          1170 non-null   float64\n",
      " 8   Cpu_brand    1170 non-null   object \n",
      " 9   HDD          1170 non-null   float64\n",
      " 10  SSD          1170 non-null   int64  \n",
      " 11  Gpu_brand    1170 non-null   object \n",
      " 12  Os           1170 non-null   object \n",
      "dtypes: float64(4), int64(4), object(5)\n",
      "memory usage: 128.0+ KB\n"
     ]
    }
   ],
   "source": [
    "df_laptops_train.info()"
   ]
  },
  {
   "cell_type": "code",
   "execution_count": 158,
   "metadata": {},
   "outputs": [
    {
     "name": "stdout",
     "output_type": "stream",
     "text": [
      "<class 'pandas.core.frame.DataFrame'>\n",
      "RangeIndex: 64 entries, 0 to 63\n",
      "Data columns (total 12 columns):\n",
      " #   Column       Non-Null Count  Dtype  \n",
      "---  ------       --------------  -----  \n",
      " 0   Company      64 non-null     object \n",
      " 1   TypeName     64 non-null     object \n",
      " 2   Ram          64 non-null     int64  \n",
      " 3   Weight       63 non-null     float64\n",
      " 4   TouchScreen  64 non-null     int64  \n",
      " 5   Ips          64 non-null     int64  \n",
      " 6   Ppi          64 non-null     float64\n",
      " 7   Cpu_brand    64 non-null     object \n",
      " 8   HDD          64 non-null     float64\n",
      " 9   SSD          64 non-null     int64  \n",
      " 10  Gpu_brand    64 non-null     object \n",
      " 11  Os           64 non-null     object \n",
      "dtypes: float64(3), int64(4), object(5)\n",
      "memory usage: 6.1+ KB\n"
     ]
    }
   ],
   "source": [
    "df_laptops_unlabeled.info()"
   ]
  },
  {
   "cell_type": "code",
   "execution_count": 159,
   "metadata": {},
   "outputs": [
    {
     "data": {
      "text/plain": [
       "Price          0.0\n",
       "Company        0.0\n",
       "TypeName       0.0\n",
       "Ram            0.0\n",
       "Weight         0.0\n",
       "TouchScreen    0.0\n",
       "Ips            0.0\n",
       "Ppi            0.0\n",
       "Cpu_brand      0.0\n",
       "HDD            0.0\n",
       "SSD            0.0\n",
       "Gpu_brand      0.0\n",
       "Os             0.0\n",
       "dtype: float64"
      ]
     },
     "execution_count": 159,
     "metadata": {},
     "output_type": "execute_result"
    }
   ],
   "source": [
    "# Revisión del porcentaje de valores nulos (vacíos) en cada columna luego de eliminar entradas con datos vacíos\n",
    "df_laptops_train[['Price']+ features].isnull().sum() / df_laptops_train.shape[0]"
   ]
  },
  {
   "cell_type": "code",
   "execution_count": 160,
   "metadata": {},
   "outputs": [
    {
     "data": {
      "text/plain": [
       "Company        0.0\n",
       "TypeName       0.0\n",
       "Ram            0.0\n",
       "Weight         0.0\n",
       "TouchScreen    0.0\n",
       "Ips            0.0\n",
       "Ppi            0.0\n",
       "Cpu_brand      0.0\n",
       "HDD            0.0\n",
       "SSD            0.0\n",
       "Gpu_brand      0.0\n",
       "Os             0.0\n",
       "dtype: float64"
      ]
     },
     "execution_count": 160,
     "metadata": {},
     "output_type": "execute_result"
    }
   ],
   "source": [
    "# Revision del porcentaje de valores nulos (vacíos) en cada columna luego de eliminar entradas con datos vacíos en datos unlabeled\n",
    "df_laptops_test_unlabeled[features].isnull().sum() / df_laptops_test_unlabeled.shape[0]"
   ]
  },
  {
   "cell_type": "markdown",
   "metadata": {},
   "source": [
    "#### Unicidad: Entradas iguales en todas sus variables"
   ]
  },
  {
   "cell_type": "code",
   "execution_count": 161,
   "metadata": {},
   "outputs": [
    {
     "data": {
      "text/plain": [
       "4"
      ]
     },
     "execution_count": 161,
     "metadata": {},
     "output_type": "execute_result"
    }
   ],
   "source": [
    "# Unicidad de los datos de entrenamiento\n",
    "entradas_duplicadas_train = df_laptops_train[df_laptops_train.duplicated()]\n",
    "len(entradas_duplicadas_train)"
   ]
  },
  {
   "cell_type": "code",
   "execution_count": 162,
   "metadata": {},
   "outputs": [
    {
     "data": {
      "text/plain": [
       "0"
      ]
     },
     "execution_count": 162,
     "metadata": {},
     "output_type": "execute_result"
    }
   ],
   "source": [
    "# Unicidad de los datos no etiquetados\n",
    "entradas_duplicadas_unlabeled = df_laptops_test_unlabeled[df_laptops_test_unlabeled.duplicated()]\n",
    "len(entradas_duplicadas_unlabeled)"
   ]
  },
  {
   "cell_type": "code",
   "execution_count": 163,
   "metadata": {},
   "outputs": [],
   "source": [
    "# Eliminar entradas duplicadas en datos de entrenamiento. \n",
    "# No se encontraron duplicados en datos unlabeled\n",
    "df_laptops_train = df_laptops_train.drop_duplicates()\n"
   ]
  },
  {
   "cell_type": "code",
   "execution_count": 164,
   "metadata": {},
   "outputs": [
    {
     "data": {
      "text/plain": [
       "0"
      ]
     },
     "execution_count": 164,
     "metadata": {},
     "output_type": "execute_result"
    }
   ],
   "source": [
    "# Revisión de entradas duplicadas luego de eliminarlas\n",
    "entradas_duplicadas = df_laptops_train[df_laptops_train.duplicated()]\n",
    "len(entradas_duplicadas)"
   ]
  },
  {
   "cell_type": "markdown",
   "metadata": {},
   "source": [
    "#### Validez: Rango lógico y formato correcto de valores en variables numéricas"
   ]
  },
  {
   "cell_type": "code",
   "execution_count": 165,
   "metadata": {},
   "outputs": [
    {
     "data": {
      "text/html": [
       "<div>\n",
       "<style scoped>\n",
       "    .dataframe tbody tr th:only-of-type {\n",
       "        vertical-align: middle;\n",
       "    }\n",
       "\n",
       "    .dataframe tbody tr th {\n",
       "        vertical-align: top;\n",
       "    }\n",
       "\n",
       "    .dataframe thead th {\n",
       "        text-align: right;\n",
       "    }\n",
       "</style>\n",
       "<table border=\"1\" class=\"dataframe\">\n",
       "  <thead>\n",
       "    <tr style=\"text-align: right;\">\n",
       "      <th></th>\n",
       "      <th>Ram</th>\n",
       "      <th>Weight</th>\n",
       "      <th>Ppi</th>\n",
       "      <th>HDD</th>\n",
       "      <th>SSD</th>\n",
       "      <th>Price</th>\n",
       "    </tr>\n",
       "  </thead>\n",
       "  <tbody>\n",
       "    <tr>\n",
       "      <th>count</th>\n",
       "      <td>1166.000000</td>\n",
       "      <td>1166.000000</td>\n",
       "      <td>1166.000000</td>\n",
       "      <td>1166.000000</td>\n",
       "      <td>1166.000000</td>\n",
       "      <td>1166.000000</td>\n",
       "    </tr>\n",
       "    <tr>\n",
       "      <th>mean</th>\n",
       "      <td>8.507719</td>\n",
       "      <td>2.132753</td>\n",
       "      <td>151.778302</td>\n",
       "      <td>414.802744</td>\n",
       "      <td>187.989708</td>\n",
       "      <td>12.385126</td>\n",
       "    </tr>\n",
       "    <tr>\n",
       "      <th>std</th>\n",
       "      <td>5.136040</td>\n",
       "      <td>2.882080</td>\n",
       "      <td>181.493944</td>\n",
       "      <td>517.624081</td>\n",
       "      <td>187.302367</td>\n",
       "      <td>24.476793</td>\n",
       "    </tr>\n",
       "    <tr>\n",
       "      <th>min</th>\n",
       "      <td>2.000000</td>\n",
       "      <td>0.690000</td>\n",
       "      <td>90.583402</td>\n",
       "      <td>0.000000</td>\n",
       "      <td>0.000000</td>\n",
       "      <td>9.134616</td>\n",
       "    </tr>\n",
       "    <tr>\n",
       "      <th>25%</th>\n",
       "      <td>4.000000</td>\n",
       "      <td>1.500000</td>\n",
       "      <td>127.335675</td>\n",
       "      <td>0.000000</td>\n",
       "      <td>0.000000</td>\n",
       "      <td>10.402328</td>\n",
       "    </tr>\n",
       "    <tr>\n",
       "      <th>50%</th>\n",
       "      <td>8.000000</td>\n",
       "      <td>2.040000</td>\n",
       "      <td>141.211998</td>\n",
       "      <td>0.000000</td>\n",
       "      <td>256.000000</td>\n",
       "      <td>10.882316</td>\n",
       "    </tr>\n",
       "    <tr>\n",
       "      <th>75%</th>\n",
       "      <td>8.000000</td>\n",
       "      <td>2.310000</td>\n",
       "      <td>157.350512</td>\n",
       "      <td>1000.000000</td>\n",
       "      <td>256.000000</td>\n",
       "      <td>11.288115</td>\n",
       "    </tr>\n",
       "    <tr>\n",
       "      <th>max</th>\n",
       "      <td>64.000000</td>\n",
       "      <td>97.729949</td>\n",
       "      <td>6170.032609</td>\n",
       "      <td>2000.000000</td>\n",
       "      <td>1024.000000</td>\n",
       "      <td>499.766079</td>\n",
       "    </tr>\n",
       "  </tbody>\n",
       "</table>\n",
       "</div>"
      ],
      "text/plain": [
       "               Ram       Weight          Ppi          HDD          SSD  \\\n",
       "count  1166.000000  1166.000000  1166.000000  1166.000000  1166.000000   \n",
       "mean      8.507719     2.132753   151.778302   414.802744   187.989708   \n",
       "std       5.136040     2.882080   181.493944   517.624081   187.302367   \n",
       "min       2.000000     0.690000    90.583402     0.000000     0.000000   \n",
       "25%       4.000000     1.500000   127.335675     0.000000     0.000000   \n",
       "50%       8.000000     2.040000   141.211998     0.000000   256.000000   \n",
       "75%       8.000000     2.310000   157.350512  1000.000000   256.000000   \n",
       "max      64.000000    97.729949  6170.032609  2000.000000  1024.000000   \n",
       "\n",
       "             Price  \n",
       "count  1166.000000  \n",
       "mean     12.385126  \n",
       "std      24.476793  \n",
       "min       9.134616  \n",
       "25%      10.402328  \n",
       "50%      10.882316  \n",
       "75%      11.288115  \n",
       "max     499.766079  "
      ]
     },
     "execution_count": 165,
     "metadata": {},
     "output_type": "execute_result"
    }
   ],
   "source": [
    "# Revisar la validez de los datos de las variables numericas y la variable price en el dataset de entrenamiento\n",
    "df_laptops_train[featuresNumericas + ['Price']].describe()\n"
   ]
  },
  {
   "cell_type": "markdown",
   "metadata": {},
   "source": [
    "Encontramos valores atípicos para las variables Weight y Ppi. Procedemos a reemplazarlos por la mediana."
   ]
  },
  {
   "cell_type": "code",
   "execution_count": 166,
   "metadata": {},
   "outputs": [
    {
     "data": {
      "text/html": [
       "<div>\n",
       "<style scoped>\n",
       "    .dataframe tbody tr th:only-of-type {\n",
       "        vertical-align: middle;\n",
       "    }\n",
       "\n",
       "    .dataframe tbody tr th {\n",
       "        vertical-align: top;\n",
       "    }\n",
       "\n",
       "    .dataframe thead th {\n",
       "        text-align: right;\n",
       "    }\n",
       "</style>\n",
       "<table border=\"1\" class=\"dataframe\">\n",
       "  <thead>\n",
       "    <tr style=\"text-align: right;\">\n",
       "      <th></th>\n",
       "      <th>Price</th>\n",
       "      <th>Company</th>\n",
       "      <th>TypeName</th>\n",
       "      <th>Ram</th>\n",
       "      <th>Weight</th>\n",
       "      <th>TouchScreen</th>\n",
       "      <th>Ips</th>\n",
       "      <th>Ppi</th>\n",
       "      <th>Cpu_brand</th>\n",
       "      <th>HDD</th>\n",
       "      <th>SSD</th>\n",
       "      <th>Gpu_brand</th>\n",
       "      <th>Os</th>\n",
       "    </tr>\n",
       "  </thead>\n",
       "  <tbody>\n",
       "    <tr>\n",
       "      <th>364</th>\n",
       "      <td>10.50498</td>\n",
       "      <td>Lenovo</td>\n",
       "      <td>Notebook</td>\n",
       "      <td>4</td>\n",
       "      <td>2.05</td>\n",
       "      <td>0</td>\n",
       "      <td>0</td>\n",
       "      <td>6170.032609</td>\n",
       "      <td>Intel Core i5</td>\n",
       "      <td>500.0</td>\n",
       "      <td>0</td>\n",
       "      <td>Intel</td>\n",
       "      <td>Windows</td>\n",
       "    </tr>\n",
       "  </tbody>\n",
       "</table>\n",
       "</div>"
      ],
      "text/plain": [
       "        Price Company  TypeName  Ram  Weight  TouchScreen  Ips          Ppi  \\\n",
       "364  10.50498  Lenovo  Notebook    4    2.05            0    0  6170.032609   \n",
       "\n",
       "         Cpu_brand    HDD  SSD Gpu_brand       Os  \n",
       "364  Intel Core i5  500.0    0     Intel  Windows  "
      ]
     },
     "execution_count": 166,
     "metadata": {},
     "output_type": "execute_result"
    }
   ],
   "source": [
    "# Revisamos la cantidad de valores atípicos que tiene la variable Ppi, estos son los mayores a 400. \n",
    "df_valores_atipicos_ppi = df_laptops_train[df_laptops_train['Ppi'] > 400]\n",
    "df_valores_atipicos_ppi"
   ]
  },
  {
   "cell_type": "code",
   "execution_count": 167,
   "metadata": {},
   "outputs": [],
   "source": [
    "# Los reemplazamos con la mediana\n",
    "df_laptops_train.loc[df_laptops_train['Ppi'] > 400, 'Ppi'] = df_laptops_train['Ppi'].median()"
   ]
  },
  {
   "cell_type": "code",
   "execution_count": 168,
   "metadata": {},
   "outputs": [
    {
     "data": {
      "text/plain": [
       "0"
      ]
     },
     "execution_count": 168,
     "metadata": {},
     "output_type": "execute_result"
    }
   ],
   "source": [
    "# Volvemos a revisar la cantidad de valores atípicos que tiene la variable Ppi, estos son los mayores a 400.\n",
    "df_valores_atipicos_ppi = df_laptops_train[df_laptops_train['Ppi'] > 400]\n",
    "len(df_valores_atipicos_ppi)"
   ]
  },
  {
   "cell_type": "code",
   "execution_count": 169,
   "metadata": {},
   "outputs": [
    {
     "data": {
      "text/html": [
       "<div>\n",
       "<style scoped>\n",
       "    .dataframe tbody tr th:only-of-type {\n",
       "        vertical-align: middle;\n",
       "    }\n",
       "\n",
       "    .dataframe tbody tr th {\n",
       "        vertical-align: top;\n",
       "    }\n",
       "\n",
       "    .dataframe thead th {\n",
       "        text-align: right;\n",
       "    }\n",
       "</style>\n",
       "<table border=\"1\" class=\"dataframe\">\n",
       "  <thead>\n",
       "    <tr style=\"text-align: right;\">\n",
       "      <th></th>\n",
       "      <th>Price</th>\n",
       "      <th>Company</th>\n",
       "      <th>TypeName</th>\n",
       "      <th>Ram</th>\n",
       "      <th>Weight</th>\n",
       "      <th>TouchScreen</th>\n",
       "      <th>Ips</th>\n",
       "      <th>Ppi</th>\n",
       "      <th>Cpu_brand</th>\n",
       "      <th>HDD</th>\n",
       "      <th>SSD</th>\n",
       "      <th>Gpu_brand</th>\n",
       "      <th>Os</th>\n",
       "    </tr>\n",
       "  </thead>\n",
       "  <tbody>\n",
       "    <tr>\n",
       "      <th>633</th>\n",
       "      <td>10.565862</td>\n",
       "      <td>Dell</td>\n",
       "      <td>Notebook</td>\n",
       "      <td>8</td>\n",
       "      <td>97.729949</td>\n",
       "      <td>0</td>\n",
       "      <td>0</td>\n",
       "      <td>141.211998</td>\n",
       "      <td>Intel Core i5</td>\n",
       "      <td>0.0</td>\n",
       "      <td>256</td>\n",
       "      <td>AMD</td>\n",
       "      <td>Windows</td>\n",
       "    </tr>\n",
       "  </tbody>\n",
       "</table>\n",
       "</div>"
      ],
      "text/plain": [
       "         Price Company  TypeName  Ram     Weight  TouchScreen  Ips  \\\n",
       "633  10.565862    Dell  Notebook    8  97.729949            0    0   \n",
       "\n",
       "            Ppi      Cpu_brand  HDD  SSD Gpu_brand       Os  \n",
       "633  141.211998  Intel Core i5  0.0  256       AMD  Windows  "
      ]
     },
     "execution_count": 169,
     "metadata": {},
     "output_type": "execute_result"
    }
   ],
   "source": [
    "# Mismo proceso con la variabale Weight\n",
    "df_valores_atipicos_weight = df_laptops_train[df_laptops_train['Weight'] > 5]\n",
    "df_valores_atipicos_weight"
   ]
  },
  {
   "cell_type": "code",
   "execution_count": 170,
   "metadata": {},
   "outputs": [
    {
     "data": {
      "text/plain": [
       "0"
      ]
     },
     "execution_count": 170,
     "metadata": {},
     "output_type": "execute_result"
    }
   ],
   "source": [
    "# Reemplazamos los valores atípicos con la mediana\n",
    "df_laptops_train.loc[df_laptops_train['Weight'] > 5, 'Weight'] = df_laptops_train['Weight'].median()\n",
    "# Volvemos a revisar la cantidad de valores atípicos que tiene la variable Weight, estos son los mayores a 5.\n",
    "len(df_laptops_train[df_laptops_train['Weight'] > 5])"
   ]
  },
  {
   "cell_type": "code",
   "execution_count": 171,
   "metadata": {},
   "outputs": [
    {
     "data": {
      "text/html": [
       "<div>\n",
       "<style scoped>\n",
       "    .dataframe tbody tr th:only-of-type {\n",
       "        vertical-align: middle;\n",
       "    }\n",
       "\n",
       "    .dataframe tbody tr th {\n",
       "        vertical-align: top;\n",
       "    }\n",
       "\n",
       "    .dataframe thead th {\n",
       "        text-align: right;\n",
       "    }\n",
       "</style>\n",
       "<table border=\"1\" class=\"dataframe\">\n",
       "  <thead>\n",
       "    <tr style=\"text-align: right;\">\n",
       "      <th></th>\n",
       "      <th>Ram</th>\n",
       "      <th>Weight</th>\n",
       "      <th>Ppi</th>\n",
       "      <th>HDD</th>\n",
       "      <th>SSD</th>\n",
       "    </tr>\n",
       "  </thead>\n",
       "  <tbody>\n",
       "    <tr>\n",
       "      <th>count</th>\n",
       "      <td>63.000000</td>\n",
       "      <td>63.000000</td>\n",
       "      <td>63.000000</td>\n",
       "      <td>63.000000</td>\n",
       "      <td>63.000000</td>\n",
       "    </tr>\n",
       "    <tr>\n",
       "      <th>mean</th>\n",
       "      <td>8.507937</td>\n",
       "      <td>2.002857</td>\n",
       "      <td>154.883423</td>\n",
       "      <td>500.000000</td>\n",
       "      <td>164.190476</td>\n",
       "    </tr>\n",
       "    <tr>\n",
       "      <th>std</th>\n",
       "      <td>5.423584</td>\n",
       "      <td>0.618170</td>\n",
       "      <td>51.980062</td>\n",
       "      <td>575.017531</td>\n",
       "      <td>184.184240</td>\n",
       "    </tr>\n",
       "    <tr>\n",
       "      <th>min</th>\n",
       "      <td>2.000000</td>\n",
       "      <td>0.690000</td>\n",
       "      <td>90.583402</td>\n",
       "      <td>0.000000</td>\n",
       "      <td>0.000000</td>\n",
       "    </tr>\n",
       "    <tr>\n",
       "      <th>25%</th>\n",
       "      <td>4.000000</td>\n",
       "      <td>1.550000</td>\n",
       "      <td>127.335675</td>\n",
       "      <td>0.000000</td>\n",
       "      <td>0.000000</td>\n",
       "    </tr>\n",
       "    <tr>\n",
       "      <th>50%</th>\n",
       "      <td>8.000000</td>\n",
       "      <td>2.020000</td>\n",
       "      <td>141.211998</td>\n",
       "      <td>0.000000</td>\n",
       "      <td>128.000000</td>\n",
       "    </tr>\n",
       "    <tr>\n",
       "      <th>75%</th>\n",
       "      <td>8.000000</td>\n",
       "      <td>2.265000</td>\n",
       "      <td>161.491315</td>\n",
       "      <td>1000.000000</td>\n",
       "      <td>256.000000</td>\n",
       "    </tr>\n",
       "    <tr>\n",
       "      <th>max</th>\n",
       "      <td>32.000000</td>\n",
       "      <td>4.300000</td>\n",
       "      <td>316.965060</td>\n",
       "      <td>2000.000000</td>\n",
       "      <td>1000.000000</td>\n",
       "    </tr>\n",
       "  </tbody>\n",
       "</table>\n",
       "</div>"
      ],
      "text/plain": [
       "             Ram     Weight         Ppi          HDD          SSD\n",
       "count  63.000000  63.000000   63.000000    63.000000    63.000000\n",
       "mean    8.507937   2.002857  154.883423   500.000000   164.190476\n",
       "std     5.423584   0.618170   51.980062   575.017531   184.184240\n",
       "min     2.000000   0.690000   90.583402     0.000000     0.000000\n",
       "25%     4.000000   1.550000  127.335675     0.000000     0.000000\n",
       "50%     8.000000   2.020000  141.211998     0.000000   128.000000\n",
       "75%     8.000000   2.265000  161.491315  1000.000000   256.000000\n",
       "max    32.000000   4.300000  316.965060  2000.000000  1000.000000"
      ]
     },
     "execution_count": 171,
     "metadata": {},
     "output_type": "execute_result"
    }
   ],
   "source": [
    "# Ahora el mismo proceso con los datos en el archivo unlabeled\n",
    "df_laptops_test_unlabeled[featuresNumericas].describe()"
   ]
  },
  {
   "cell_type": "code",
   "execution_count": 172,
   "metadata": {},
   "outputs": [],
   "source": [
    "# Reemplazamos los valores atipicos con la mediana\n",
    "df_laptops_test_unlabeled.loc[df_laptops_test_unlabeled['Ppi'] > 400, 'Ppi'] = df_laptops_test_unlabeled['Ppi'].median()"
   ]
  },
  {
   "cell_type": "markdown",
   "metadata": {},
   "source": [
    "Volvemos a comprobar los datos de las variables numericas y la variable price para comprobar que no hayan valores atipicos\n"
   ]
  },
  {
   "cell_type": "code",
   "execution_count": 173,
   "metadata": {},
   "outputs": [
    {
     "data": {
      "text/html": [
       "<div>\n",
       "<style scoped>\n",
       "    .dataframe tbody tr th:only-of-type {\n",
       "        vertical-align: middle;\n",
       "    }\n",
       "\n",
       "    .dataframe tbody tr th {\n",
       "        vertical-align: top;\n",
       "    }\n",
       "\n",
       "    .dataframe thead th {\n",
       "        text-align: right;\n",
       "    }\n",
       "</style>\n",
       "<table border=\"1\" class=\"dataframe\">\n",
       "  <thead>\n",
       "    <tr style=\"text-align: right;\">\n",
       "      <th></th>\n",
       "      <th>Ram</th>\n",
       "      <th>Weight</th>\n",
       "      <th>Ppi</th>\n",
       "      <th>HDD</th>\n",
       "      <th>SSD</th>\n",
       "      <th>Price</th>\n",
       "    </tr>\n",
       "  </thead>\n",
       "  <tbody>\n",
       "    <tr>\n",
       "      <th>count</th>\n",
       "      <td>1166.000000</td>\n",
       "      <td>1166.000000</td>\n",
       "      <td>1166.000000</td>\n",
       "      <td>1166.000000</td>\n",
       "      <td>1166.000000</td>\n",
       "      <td>1166.000000</td>\n",
       "    </tr>\n",
       "    <tr>\n",
       "      <th>mean</th>\n",
       "      <td>8.507719</td>\n",
       "      <td>2.050686</td>\n",
       "      <td>146.607787</td>\n",
       "      <td>414.802744</td>\n",
       "      <td>187.989708</td>\n",
       "      <td>12.385126</td>\n",
       "    </tr>\n",
       "    <tr>\n",
       "      <th>std</th>\n",
       "      <td>5.136040</td>\n",
       "      <td>0.674661</td>\n",
       "      <td>42.705848</td>\n",
       "      <td>517.624081</td>\n",
       "      <td>187.302367</td>\n",
       "      <td>24.476793</td>\n",
       "    </tr>\n",
       "    <tr>\n",
       "      <th>min</th>\n",
       "      <td>2.000000</td>\n",
       "      <td>0.690000</td>\n",
       "      <td>90.583402</td>\n",
       "      <td>0.000000</td>\n",
       "      <td>0.000000</td>\n",
       "      <td>9.134616</td>\n",
       "    </tr>\n",
       "    <tr>\n",
       "      <th>25%</th>\n",
       "      <td>4.000000</td>\n",
       "      <td>1.500000</td>\n",
       "      <td>127.335675</td>\n",
       "      <td>0.000000</td>\n",
       "      <td>0.000000</td>\n",
       "      <td>10.402328</td>\n",
       "    </tr>\n",
       "    <tr>\n",
       "      <th>50%</th>\n",
       "      <td>8.000000</td>\n",
       "      <td>2.040000</td>\n",
       "      <td>141.211998</td>\n",
       "      <td>0.000000</td>\n",
       "      <td>256.000000</td>\n",
       "      <td>10.882316</td>\n",
       "    </tr>\n",
       "    <tr>\n",
       "      <th>75%</th>\n",
       "      <td>8.000000</td>\n",
       "      <td>2.310000</td>\n",
       "      <td>157.350512</td>\n",
       "      <td>1000.000000</td>\n",
       "      <td>256.000000</td>\n",
       "      <td>11.288115</td>\n",
       "    </tr>\n",
       "    <tr>\n",
       "      <th>max</th>\n",
       "      <td>64.000000</td>\n",
       "      <td>4.700000</td>\n",
       "      <td>352.465147</td>\n",
       "      <td>2000.000000</td>\n",
       "      <td>1024.000000</td>\n",
       "      <td>499.766079</td>\n",
       "    </tr>\n",
       "  </tbody>\n",
       "</table>\n",
       "</div>"
      ],
      "text/plain": [
       "               Ram       Weight          Ppi          HDD          SSD  \\\n",
       "count  1166.000000  1166.000000  1166.000000  1166.000000  1166.000000   \n",
       "mean      8.507719     2.050686   146.607787   414.802744   187.989708   \n",
       "std       5.136040     0.674661    42.705848   517.624081   187.302367   \n",
       "min       2.000000     0.690000    90.583402     0.000000     0.000000   \n",
       "25%       4.000000     1.500000   127.335675     0.000000     0.000000   \n",
       "50%       8.000000     2.040000   141.211998     0.000000   256.000000   \n",
       "75%       8.000000     2.310000   157.350512  1000.000000   256.000000   \n",
       "max      64.000000     4.700000   352.465147  2000.000000  1024.000000   \n",
       "\n",
       "             Price  \n",
       "count  1166.000000  \n",
       "mean     12.385126  \n",
       "std      24.476793  \n",
       "min       9.134616  \n",
       "25%      10.402328  \n",
       "50%      10.882316  \n",
       "75%      11.288115  \n",
       "max     499.766079  "
      ]
     },
     "execution_count": 173,
     "metadata": {},
     "output_type": "execute_result"
    }
   ],
   "source": [
    "df_laptops_train[featuresNumericas + ['Price']].describe()"
   ]
  },
  {
   "cell_type": "code",
   "execution_count": 174,
   "metadata": {},
   "outputs": [
    {
     "data": {
      "text/html": [
       "<div>\n",
       "<style scoped>\n",
       "    .dataframe tbody tr th:only-of-type {\n",
       "        vertical-align: middle;\n",
       "    }\n",
       "\n",
       "    .dataframe tbody tr th {\n",
       "        vertical-align: top;\n",
       "    }\n",
       "\n",
       "    .dataframe thead th {\n",
       "        text-align: right;\n",
       "    }\n",
       "</style>\n",
       "<table border=\"1\" class=\"dataframe\">\n",
       "  <thead>\n",
       "    <tr style=\"text-align: right;\">\n",
       "      <th></th>\n",
       "      <th>Ram</th>\n",
       "      <th>Weight</th>\n",
       "      <th>Ppi</th>\n",
       "      <th>HDD</th>\n",
       "      <th>SSD</th>\n",
       "    </tr>\n",
       "  </thead>\n",
       "  <tbody>\n",
       "    <tr>\n",
       "      <th>count</th>\n",
       "      <td>63.000000</td>\n",
       "      <td>63.000000</td>\n",
       "      <td>63.000000</td>\n",
       "      <td>63.000000</td>\n",
       "      <td>63.000000</td>\n",
       "    </tr>\n",
       "    <tr>\n",
       "      <th>mean</th>\n",
       "      <td>8.507937</td>\n",
       "      <td>2.002857</td>\n",
       "      <td>154.883423</td>\n",
       "      <td>500.000000</td>\n",
       "      <td>164.190476</td>\n",
       "    </tr>\n",
       "    <tr>\n",
       "      <th>std</th>\n",
       "      <td>5.423584</td>\n",
       "      <td>0.618170</td>\n",
       "      <td>51.980062</td>\n",
       "      <td>575.017531</td>\n",
       "      <td>184.184240</td>\n",
       "    </tr>\n",
       "    <tr>\n",
       "      <th>min</th>\n",
       "      <td>2.000000</td>\n",
       "      <td>0.690000</td>\n",
       "      <td>90.583402</td>\n",
       "      <td>0.000000</td>\n",
       "      <td>0.000000</td>\n",
       "    </tr>\n",
       "    <tr>\n",
       "      <th>25%</th>\n",
       "      <td>4.000000</td>\n",
       "      <td>1.550000</td>\n",
       "      <td>127.335675</td>\n",
       "      <td>0.000000</td>\n",
       "      <td>0.000000</td>\n",
       "    </tr>\n",
       "    <tr>\n",
       "      <th>50%</th>\n",
       "      <td>8.000000</td>\n",
       "      <td>2.020000</td>\n",
       "      <td>141.211998</td>\n",
       "      <td>0.000000</td>\n",
       "      <td>128.000000</td>\n",
       "    </tr>\n",
       "    <tr>\n",
       "      <th>75%</th>\n",
       "      <td>8.000000</td>\n",
       "      <td>2.265000</td>\n",
       "      <td>161.491315</td>\n",
       "      <td>1000.000000</td>\n",
       "      <td>256.000000</td>\n",
       "    </tr>\n",
       "    <tr>\n",
       "      <th>max</th>\n",
       "      <td>32.000000</td>\n",
       "      <td>4.300000</td>\n",
       "      <td>316.965060</td>\n",
       "      <td>2000.000000</td>\n",
       "      <td>1000.000000</td>\n",
       "    </tr>\n",
       "  </tbody>\n",
       "</table>\n",
       "</div>"
      ],
      "text/plain": [
       "             Ram     Weight         Ppi          HDD          SSD\n",
       "count  63.000000  63.000000   63.000000    63.000000    63.000000\n",
       "mean    8.507937   2.002857  154.883423   500.000000   164.190476\n",
       "std     5.423584   0.618170   51.980062   575.017531   184.184240\n",
       "min     2.000000   0.690000   90.583402     0.000000     0.000000\n",
       "25%     4.000000   1.550000  127.335675     0.000000     0.000000\n",
       "50%     8.000000   2.020000  141.211998     0.000000   128.000000\n",
       "75%     8.000000   2.265000  161.491315  1000.000000   256.000000\n",
       "max    32.000000   4.300000  316.965060  2000.000000  1000.000000"
      ]
     },
     "execution_count": 174,
     "metadata": {},
     "output_type": "execute_result"
    }
   ],
   "source": [
    "df_laptops_test_unlabeled[featuresNumericas].describe()"
   ]
  },
  {
   "cell_type": "markdown",
   "metadata": {},
   "source": [
    "### Output del archivo actual"
   ]
  },
  {
   "cell_type": "code",
   "execution_count": 175,
   "metadata": {},
   "outputs": [],
   "source": [
    "nombre_archivo = 'df_laptops_train_output1.csv'\n",
    "df_laptops_train.to_csv('./data/' + nombre_archivo, sep=',', encoding='utf-8', index=False)\n",
    "nombre_archivo_unlabeled = 'df_laptops_test_unlabeled_output1.csv'\n",
    "df_laptops_test_unlabeled.to_csv('./data/' + nombre_archivo_unlabeled, sep=',', encoding='utf-8', index=False)"
   ]
  },
  {
   "cell_type": "markdown",
   "metadata": {},
   "source": [
    "#####"
   ]
  },
  {
   "cell_type": "markdown",
   "metadata": {},
   "source": [
    "# 2. Búsqueda de relaciones entre variables"
   ]
  },
  {
   "cell_type": "code",
   "execution_count": 183,
   "metadata": {},
   "outputs": [
    {
     "name": "stdout",
     "output_type": "stream",
     "text": [
      "Company: ['HP' 'Lenovo' 'MSI' 'Asus' 'Acer' 'Toshiba' 'Dell' 'Mediacom']\n",
      "TypeName: ['Notebook' 'Gaming' 'Ultrabook' '2 in 1 Convertible' 'Netbook'\n",
      " '&&Notebook']\n",
      "TouchScreen: [0 1]\n",
      "Ips: [0 1]\n",
      "Cpu_brand: ['Intel Core i3' 'Intel Core i5' 'Intel Core i7' 'Other Intel Processor'\n",
      " 'AMD Processor']\n",
      "Gpu_brand: ['Intel' 'Nvidia' 'AMD']\n",
      "Os: ['Windows' 'Others']\n"
     ]
    }
   ],
   "source": [
    "# Revisar valores unicos en cada variable categorica\n",
    "for feature in featuresCategoricas:\n",
    "    print(f'{feature}: {df_laptops_test_unlabeled[feature].unique()}')"
   ]
  },
  {
   "cell_type": "code",
   "execution_count": 181,
   "metadata": {},
   "outputs": [
    {
     "name": "stderr",
     "output_type": "stream",
     "text": [
      "/Users/duman/.pyenv/versions/3.9.0/lib/python3.9/site-packages/sklearn/preprocessing/_encoders.py:972: FutureWarning: `sparse` was renamed to `sparse_output` in version 1.2 and will be removed in 1.4. `sparse_output` is ignored unless you leave `sparse` to its default value.\n",
      "  warnings.warn(\n"
     ]
    },
    {
     "ename": "ValueError",
     "evalue": "Found unknown categories ['&&Notebook'] in column 1 during transform",
     "output_type": "error",
     "traceback": [
      "\u001b[0;31m---------------------------------------------------------------------------\u001b[0m",
      "\u001b[0;31mValueError\u001b[0m                                Traceback (most recent call last)",
      "Cell \u001b[0;32mIn[181], line 8\u001b[0m\n\u001b[1;32m      5\u001b[0m df_encoded_train \u001b[39m=\u001b[39m ohe\u001b[39m.\u001b[39mfit_transform(df_laptops_train[featuresCategoricas])\n\u001b[1;32m      7\u001b[0m \u001b[39m# Ajustar el encoder con los datos no etiquetados\u001b[39;00m\n\u001b[0;32m----> 8\u001b[0m df_encoded_unlabeled \u001b[39m=\u001b[39m ohe\u001b[39m.\u001b[39;49mtransform(df_laptops_test_unlabeled[featuresCategoricas])\n\u001b[1;32m     10\u001b[0m \u001b[39m# Convertir el resultado a un DataFrame\u001b[39;00m\n\u001b[1;32m     11\u001b[0m df_encoded_train \u001b[39m=\u001b[39m pd\u001b[39m.\u001b[39mDataFrame(df_encoded_train, columns\u001b[39m=\u001b[39mohe\u001b[39m.\u001b[39mget_feature_names())\n",
      "File \u001b[0;32m~/.pyenv/versions/3.9.0/lib/python3.9/site-packages/sklearn/utils/_set_output.py:140\u001b[0m, in \u001b[0;36m_wrap_method_output.<locals>.wrapped\u001b[0;34m(self, X, *args, **kwargs)\u001b[0m\n\u001b[1;32m    138\u001b[0m \u001b[39m@wraps\u001b[39m(f)\n\u001b[1;32m    139\u001b[0m \u001b[39mdef\u001b[39;00m \u001b[39mwrapped\u001b[39m(\u001b[39mself\u001b[39m, X, \u001b[39m*\u001b[39margs, \u001b[39m*\u001b[39m\u001b[39m*\u001b[39mkwargs):\n\u001b[0;32m--> 140\u001b[0m     data_to_wrap \u001b[39m=\u001b[39m f(\u001b[39mself\u001b[39;49m, X, \u001b[39m*\u001b[39;49margs, \u001b[39m*\u001b[39;49m\u001b[39m*\u001b[39;49mkwargs)\n\u001b[1;32m    141\u001b[0m     \u001b[39mif\u001b[39;00m \u001b[39misinstance\u001b[39m(data_to_wrap, \u001b[39mtuple\u001b[39m):\n\u001b[1;32m    142\u001b[0m         \u001b[39m# only wrap the first output for cross decomposition\u001b[39;00m\n\u001b[1;32m    143\u001b[0m         return_tuple \u001b[39m=\u001b[39m (\n\u001b[1;32m    144\u001b[0m             _wrap_data_with_container(method, data_to_wrap[\u001b[39m0\u001b[39m], X, \u001b[39mself\u001b[39m),\n\u001b[1;32m    145\u001b[0m             \u001b[39m*\u001b[39mdata_to_wrap[\u001b[39m1\u001b[39m:],\n\u001b[1;32m    146\u001b[0m         )\n",
      "File \u001b[0;32m~/.pyenv/versions/3.9.0/lib/python3.9/site-packages/sklearn/preprocessing/_encoders.py:1016\u001b[0m, in \u001b[0;36mOneHotEncoder.transform\u001b[0;34m(self, X)\u001b[0m\n\u001b[1;32m   1011\u001b[0m \u001b[39m# validation of X happens in _check_X called by _transform\u001b[39;00m\n\u001b[1;32m   1012\u001b[0m warn_on_unknown \u001b[39m=\u001b[39m \u001b[39mself\u001b[39m\u001b[39m.\u001b[39mdrop \u001b[39mis\u001b[39;00m \u001b[39mnot\u001b[39;00m \u001b[39mNone\u001b[39;00m \u001b[39mand\u001b[39;00m \u001b[39mself\u001b[39m\u001b[39m.\u001b[39mhandle_unknown \u001b[39min\u001b[39;00m {\n\u001b[1;32m   1013\u001b[0m     \u001b[39m\"\u001b[39m\u001b[39mignore\u001b[39m\u001b[39m\"\u001b[39m,\n\u001b[1;32m   1014\u001b[0m     \u001b[39m\"\u001b[39m\u001b[39minfrequent_if_exist\u001b[39m\u001b[39m\"\u001b[39m,\n\u001b[1;32m   1015\u001b[0m }\n\u001b[0;32m-> 1016\u001b[0m X_int, X_mask \u001b[39m=\u001b[39m \u001b[39mself\u001b[39;49m\u001b[39m.\u001b[39;49m_transform(\n\u001b[1;32m   1017\u001b[0m     X,\n\u001b[1;32m   1018\u001b[0m     handle_unknown\u001b[39m=\u001b[39;49m\u001b[39mself\u001b[39;49m\u001b[39m.\u001b[39;49mhandle_unknown,\n\u001b[1;32m   1019\u001b[0m     force_all_finite\u001b[39m=\u001b[39;49m\u001b[39m\"\u001b[39;49m\u001b[39mallow-nan\u001b[39;49m\u001b[39m\"\u001b[39;49m,\n\u001b[1;32m   1020\u001b[0m     warn_on_unknown\u001b[39m=\u001b[39;49mwarn_on_unknown,\n\u001b[1;32m   1021\u001b[0m )\n\u001b[1;32m   1023\u001b[0m n_samples, n_features \u001b[39m=\u001b[39m X_int\u001b[39m.\u001b[39mshape\n\u001b[1;32m   1025\u001b[0m \u001b[39mif\u001b[39;00m \u001b[39mself\u001b[39m\u001b[39m.\u001b[39m_drop_idx_after_grouping \u001b[39mis\u001b[39;00m \u001b[39mnot\u001b[39;00m \u001b[39mNone\u001b[39;00m:\n",
      "File \u001b[0;32m~/.pyenv/versions/3.9.0/lib/python3.9/site-packages/sklearn/preprocessing/_encoders.py:199\u001b[0m, in \u001b[0;36m_BaseEncoder._transform\u001b[0;34m(self, X, handle_unknown, force_all_finite, warn_on_unknown, ignore_category_indices)\u001b[0m\n\u001b[1;32m    194\u001b[0m \u001b[39mif\u001b[39;00m handle_unknown \u001b[39m==\u001b[39m \u001b[39m\"\u001b[39m\u001b[39merror\u001b[39m\u001b[39m\"\u001b[39m:\n\u001b[1;32m    195\u001b[0m     msg \u001b[39m=\u001b[39m (\n\u001b[1;32m    196\u001b[0m         \u001b[39m\"\u001b[39m\u001b[39mFound unknown categories \u001b[39m\u001b[39m{0}\u001b[39;00m\u001b[39m in column \u001b[39m\u001b[39m{1}\u001b[39;00m\u001b[39m\"\u001b[39m\n\u001b[1;32m    197\u001b[0m         \u001b[39m\"\u001b[39m\u001b[39m during transform\u001b[39m\u001b[39m\"\u001b[39m\u001b[39m.\u001b[39mformat(diff, i)\n\u001b[1;32m    198\u001b[0m     )\n\u001b[0;32m--> 199\u001b[0m     \u001b[39mraise\u001b[39;00m \u001b[39mValueError\u001b[39;00m(msg)\n\u001b[1;32m    200\u001b[0m \u001b[39melse\u001b[39;00m:\n\u001b[1;32m    201\u001b[0m     \u001b[39mif\u001b[39;00m warn_on_unknown:\n",
      "\u001b[0;31mValueError\u001b[0m: Found unknown categories ['&&Notebook'] in column 1 during transform"
     ]
    }
   ],
   "source": [
    "# Transformar variables categoricas a numericas con OneHotEncoder\n",
    "ohe = OneHotEncoder(drop='first', sparse=False)\n",
    "\n",
    "# Ajustar el encoder con los datos de entrenamiento\n",
    "df_encoded_train = ohe.fit_transform(df_laptops_train[featuresCategoricas])\n",
    "\n",
    "# Ajustar el encoder con los datos no etiquetados\n",
    "df_encoded_unlabeled = ohe.transform(df_laptops_test_unlabeled[featuresCategoricas])\n",
    "\n",
    "# Convertir el resultado a un DataFrame\n",
    "df_encoded_train = pd.DataFrame(df_encoded_train, columns=ohe.get_feature_names())\n",
    "df_encoded_unlabeled = pd.DataFrame(df_encoded_unlabeled, columns=ohe.get_feature_names())\n",
    "\n",
    "# Revisar el resultado\n",
    "df_encoded_train.head()\n",
    "\n",
    "\n",
    "#df_laptops_train = pd.concat([df_laptops_train.drop(featuresCategoricas, axis=1), df_encoded_train], axis=1)\n",
    "#df_laptops_test_unlabeled = pd.concat([df_laptops_test_unlabeled.drop(featuresCategoricas, axis=1), df_encoded_test], axis=1)\n"
   ]
  },
  {
   "cell_type": "code",
   "execution_count": 176,
   "metadata": {},
   "outputs": [
    {
     "name": "stdout",
     "output_type": "stream",
     "text": [
      "<class 'pandas.core.frame.DataFrame'>\n",
      "Index: 1166 entries, 0 to 1215\n",
      "Data columns (total 13 columns):\n",
      " #   Column       Non-Null Count  Dtype  \n",
      "---  ------       --------------  -----  \n",
      " 0   Price        1166 non-null   float64\n",
      " 1   Company      1166 non-null   object \n",
      " 2   TypeName     1166 non-null   object \n",
      " 3   Ram          1166 non-null   int64  \n",
      " 4   Weight       1166 non-null   float64\n",
      " 5   TouchScreen  1166 non-null   int64  \n",
      " 6   Ips          1166 non-null   int64  \n",
      " 7   Ppi          1166 non-null   float64\n",
      " 8   Cpu_brand    1166 non-null   object \n",
      " 9   HDD          1166 non-null   float64\n",
      " 10  SSD          1166 non-null   int64  \n",
      " 11  Gpu_brand    1166 non-null   object \n",
      " 12  Os           1166 non-null   object \n",
      "dtypes: float64(4), int64(4), object(5)\n",
      "memory usage: 127.5+ KB\n"
     ]
    }
   ],
   "source": [
    "df_laptops_train.info()"
   ]
  },
  {
   "cell_type": "code",
   "execution_count": 138,
   "metadata": {},
   "outputs": [
    {
     "name": "stdout",
     "output_type": "stream",
     "text": [
      "<class 'pandas.core.frame.DataFrame'>\n",
      "Index: 63 entries, 0 to 63\n",
      "Data columns (total 35 columns):\n",
      " #   Column                           Non-Null Count  Dtype  \n",
      "---  ------                           --------------  -----  \n",
      " 0   id                               63 non-null     int64  \n",
      " 1   Ram                              63 non-null     int64  \n",
      " 2   Weight                           63 non-null     float64\n",
      " 3   Ppi                              63 non-null     float64\n",
      " 4   HDD                              63 non-null     float64\n",
      " 5   SSD                              63 non-null     int64  \n",
      " 6   CalculatedPrice                  0 non-null      float64\n",
      " 7   Company_Acer                     63 non-null     bool   \n",
      " 8   Company_Asus                     63 non-null     bool   \n",
      " 9   Company_Dell                     63 non-null     bool   \n",
      " 10  Company_HP                       63 non-null     bool   \n",
      " 11  Company_Lenovo                   63 non-null     bool   \n",
      " 12  Company_MSI                      63 non-null     bool   \n",
      " 13  Company_Mediacom                 63 non-null     bool   \n",
      " 14  Company_Toshiba                  63 non-null     bool   \n",
      " 15  TypeName_&&Notebook              63 non-null     bool   \n",
      " 16  TypeName_2 in 1 Convertible      63 non-null     bool   \n",
      " 17  TypeName_Gaming                  63 non-null     bool   \n",
      " 18  TypeName_Netbook                 63 non-null     bool   \n",
      " 19  TypeName_Notebook                63 non-null     bool   \n",
      " 20  TypeName_Ultrabook               63 non-null     bool   \n",
      " 21  TouchScreen_0                    63 non-null     bool   \n",
      " 22  TouchScreen_1                    63 non-null     bool   \n",
      " 23  Ips_0                            63 non-null     bool   \n",
      " 24  Ips_1                            63 non-null     bool   \n",
      " 25  Cpu_brand_AMD Processor          63 non-null     bool   \n",
      " 26  Cpu_brand_Intel Core i3          63 non-null     bool   \n",
      " 27  Cpu_brand_Intel Core i5          63 non-null     bool   \n",
      " 28  Cpu_brand_Intel Core i7          63 non-null     bool   \n",
      " 29  Cpu_brand_Other Intel Processor  63 non-null     bool   \n",
      " 30  Gpu_brand_AMD                    63 non-null     bool   \n",
      " 31  Gpu_brand_Intel                  63 non-null     bool   \n",
      " 32  Gpu_brand_Nvidia                 63 non-null     bool   \n",
      " 33  Os_Others                        63 non-null     bool   \n",
      " 34  Os_Windows                       63 non-null     bool   \n",
      "dtypes: bool(28), float64(4), int64(3)\n",
      "memory usage: 5.7 KB\n"
     ]
    }
   ],
   "source": [
    "df_laptops_test_unlabeled.info()"
   ]
  },
  {
   "cell_type": "code",
   "execution_count": null,
   "metadata": {},
   "outputs": [],
   "source": [
    "# Devolver transofrmaciones de variables categoricas a numericas con OneHotEncoder\n",
    "df"
   ]
  },
  {
   "cell_type": "code",
   "execution_count": 128,
   "metadata": {},
   "outputs": [
    {
     "data": {
      "text/plain": [
       "Price     1.000000\n",
       "SSD       0.088001\n",
       "Ppi       0.046111\n",
       "Ram       0.025266\n",
       "HDD      -0.033495\n",
       "Weight   -0.051307\n",
       "Name: Price, dtype: float64"
      ]
     },
     "execution_count": 128,
     "metadata": {},
     "output_type": "execute_result"
    }
   ],
   "source": [
    "# Correlacion\n",
    "\n",
    "correlation_matrix = df_laptops_train[featuresNumericas + ['Price']].corr()\n",
    "correlation_with_price = correlation_matrix['Price'].sort_values(ascending=False)\n",
    "correlation_with_price\n"
   ]
  },
  {
   "cell_type": "code",
   "execution_count": 129,
   "metadata": {},
   "outputs": [
    {
     "data": {
      "text/plain": [
       "<Axes: >"
      ]
     },
     "execution_count": 129,
     "metadata": {},
     "output_type": "execute_result"
    },
    {
     "data": {
      "image/png": "[encoded data removed]",
      "text/plain": [
       "<Figure size 640x480 with 2 Axes>"
      ]
     },
     "metadata": {},
     "output_type": "display_data"
    }
   ],
   "source": [
    "sns.heatmap(correlation_matrix, annot=True, cmap='coolwarm')"
   ]
  }
 ],
 "metadata": {
  "kernelspec": {
   "display_name": "Python 3",
   "language": "python",
   "name": "python3"
  },
  "language_info": {
   "codemirror_mode": {
    "name": "ipython",
    "version": 3
   },
   "file_extension": ".py",
   "mimetype": "text/x-python",
   "name": "python",
   "nbconvert_exporter": "python",
   "pygments_lexer": "ipython3",
   "version": "3.9.0"
  },
  "orig_nbformat": 4
 },
 "nbformat": 4,
 "nbformat_minor": 2
}
