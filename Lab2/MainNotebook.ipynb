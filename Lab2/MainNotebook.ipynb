{
 "cells": [
  {
   "cell_type": "code",
   "execution_count": 1,
   "metadata": {},
   "outputs": [],
   "source": [
    "import numpy as np\n",
    "import pandas as pd\n",
    "\n",
    "from joblib import dump, load\n",
    "\n",
    "import matplotlib.pyplot as plt\n",
    "import seaborn as sns\n",
    "\n",
    "from sklearn.model_selection import train_test_split\n",
    "from sklearn.linear_model import LinearRegression\n",
    "from sklearn.pipeline import Pipeline\n",
    "from sklearn.compose import ColumnTransformer\n",
    "from sklearn.preprocessing import StandardScaler\n",
    "from sklearn.preprocessing import PolynomialFeatures\n",
    "from sklearn.metrics import mean_absolute_error, mean_squared_error, r2_score\n",
    "\n",
    "import scipy.stats as stats"
   ]
  },
  {
   "cell_type": "code",
   "execution_count": 2,
   "metadata": {},
   "outputs": [],
   "source": [
    "pd.set_option('display.max_columns', None)\n",
    "pd.set_option('display.max_rows', 50)"
   ]
  },
  {
   "cell_type": "markdown",
   "metadata": {},
   "source": [
    "# 1. Carga de los datos"
   ]
  },
  {
   "cell_type": "code",
   "execution_count": 3,
   "metadata": {},
   "outputs": [
    {
     "name": "stdout",
     "output_type": "stream",
     "text": [
      "/Users/duman/Documents/universidad/7semestre/BI/BI-202302/Lab2\n"
     ]
    }
   ],
   "source": [
    "import os \n",
    "ruta = os.getcwd()\n",
    "print(ruta)"
   ]
  },
  {
   "cell_type": "code",
   "execution_count": 11,
   "metadata": {},
   "outputs": [],
   "source": [
    "df_laptops_train = pd.read_csv('./data/laptop_data_train.csv', sep=',', encoding='utf-8')"
   ]
  },
  {
   "cell_type": "code",
   "execution_count": 12,
   "metadata": {},
   "outputs": [
    {
     "data": {
      "text/plain": [
       "(1216, 14)"
      ]
     },
     "execution_count": 12,
     "metadata": {},
     "output_type": "execute_result"
    }
   ],
   "source": [
    "df_laptops_train.shape"
   ]
  },
  {
   "cell_type": "code",
   "execution_count": 13,
   "metadata": {},
   "outputs": [
    {
     "data": {
      "text/html": [
       "<div>\n",
       "<style scoped>\n",
       "    .dataframe tbody tr th:only-of-type {\n",
       "        vertical-align: middle;\n",
       "    }\n",
       "\n",
       "    .dataframe tbody tr th {\n",
       "        vertical-align: top;\n",
       "    }\n",
       "\n",
       "    .dataframe thead th {\n",
       "        text-align: right;\n",
       "    }\n",
       "</style>\n",
       "<table border=\"1\" class=\"dataframe\">\n",
       "  <thead>\n",
       "    <tr style=\"text-align: right;\">\n",
       "      <th></th>\n",
       "      <th>id</th>\n",
       "      <th>Company</th>\n",
       "      <th>TypeName</th>\n",
       "      <th>Ram</th>\n",
       "      <th>Weight</th>\n",
       "      <th>Price</th>\n",
       "      <th>TouchScreen</th>\n",
       "      <th>Ips</th>\n",
       "      <th>Ppi</th>\n",
       "      <th>Cpu_brand</th>\n",
       "      <th>HDD</th>\n",
       "      <th>SSD</th>\n",
       "      <th>Gpu_brand</th>\n",
       "      <th>Os</th>\n",
       "    </tr>\n",
       "  </thead>\n",
       "  <tbody>\n",
       "    <tr>\n",
       "      <th>672</th>\n",
       "      <td>1155</td>\n",
       "      <td>HP</td>\n",
       "      <td>Notebook</td>\n",
       "      <td>4</td>\n",
       "      <td>1.91</td>\n",
       "      <td>10.147032</td>\n",
       "      <td>0</td>\n",
       "      <td>0</td>\n",
       "      <td>141.211998</td>\n",
       "      <td>AMD Processor</td>\n",
       "      <td>0.0</td>\n",
       "      <td>256</td>\n",
       "      <td>AMD</td>\n",
       "      <td>Windows</td>\n",
       "    </tr>\n",
       "    <tr>\n",
       "      <th>209</th>\n",
       "      <td>154</td>\n",
       "      <td>HP</td>\n",
       "      <td>Ultrabook</td>\n",
       "      <td>4</td>\n",
       "      <td>1.48</td>\n",
       "      <td>10.962127</td>\n",
       "      <td>0</td>\n",
       "      <td>0</td>\n",
       "      <td>157.350512</td>\n",
       "      <td>Intel Core i5</td>\n",
       "      <td>0.0</td>\n",
       "      <td>256</td>\n",
       "      <td>Intel</td>\n",
       "      <td>Windows</td>\n",
       "    </tr>\n",
       "    <tr>\n",
       "      <th>167</th>\n",
       "      <td>196</td>\n",
       "      <td>Razer</td>\n",
       "      <td>Gaming</td>\n",
       "      <td>32</td>\n",
       "      <td>3.49</td>\n",
       "      <td>12.691441</td>\n",
       "      <td>1</td>\n",
       "      <td>0</td>\n",
       "      <td>254.671349</td>\n",
       "      <td>Intel Core i7</td>\n",
       "      <td>0.0</td>\n",
       "      <td>1000</td>\n",
       "      <td>Nvidia</td>\n",
       "      <td>Windows</td>\n",
       "    </tr>\n",
       "    <tr>\n",
       "      <th>682</th>\n",
       "      <td>864</td>\n",
       "      <td>Dell</td>\n",
       "      <td>Ultrabook</td>\n",
       "      <td>16</td>\n",
       "      <td>1.29</td>\n",
       "      <td>11.689792</td>\n",
       "      <td>1</td>\n",
       "      <td>0</td>\n",
       "      <td>276.053530</td>\n",
       "      <td>Intel Core i7</td>\n",
       "      <td>0.0</td>\n",
       "      <td>512</td>\n",
       "      <td>Intel</td>\n",
       "      <td>Windows</td>\n",
       "    </tr>\n",
       "    <tr>\n",
       "      <th>234</th>\n",
       "      <td>405</td>\n",
       "      <td>Asus</td>\n",
       "      <td>Ultrabook</td>\n",
       "      <td>8</td>\n",
       "      <td>1.10</td>\n",
       "      <td>11.510858</td>\n",
       "      <td>0</td>\n",
       "      <td>0</td>\n",
       "      <td>157.350512</td>\n",
       "      <td>Intel Core i7</td>\n",
       "      <td>0.0</td>\n",
       "      <td>512</td>\n",
       "      <td>Intel</td>\n",
       "      <td>Windows</td>\n",
       "    </tr>\n",
       "  </tbody>\n",
       "</table>\n",
       "</div>"
      ],
      "text/plain": [
       "       id Company   TypeName  Ram  Weight      Price  TouchScreen  Ips  \\\n",
       "672  1155      HP   Notebook    4    1.91  10.147032            0    0   \n",
       "209   154      HP  Ultrabook    4    1.48  10.962127            0    0   \n",
       "167   196   Razer     Gaming   32    3.49  12.691441            1    0   \n",
       "682   864    Dell  Ultrabook   16    1.29  11.689792            1    0   \n",
       "234   405    Asus  Ultrabook    8    1.10  11.510858            0    0   \n",
       "\n",
       "            Ppi      Cpu_brand  HDD   SSD Gpu_brand       Os  \n",
       "672  141.211998  AMD Processor  0.0   256       AMD  Windows  \n",
       "209  157.350512  Intel Core i5  0.0   256     Intel  Windows  \n",
       "167  254.671349  Intel Core i7  0.0  1000    Nvidia  Windows  \n",
       "682  276.053530  Intel Core i7  0.0   512     Intel  Windows  \n",
       "234  157.350512  Intel Core i7  0.0   512     Intel  Windows  "
      ]
     },
     "execution_count": 13,
     "metadata": {},
     "output_type": "execute_result"
    }
   ],
   "source": [
    "df_laptops_train.sample(5)"
   ]
  },
  {
   "cell_type": "code",
   "execution_count": 17,
   "metadata": {},
   "outputs": [],
   "source": [
    "df_laptops_unlabeled = pd.read_csv('./data/laptop_data_test_unlabeled.csv', sep=',', encoding='utf-8')"
   ]
  },
  {
   "cell_type": "code",
   "execution_count": 18,
   "metadata": {},
   "outputs": [
    {
     "data": {
      "text/plain": [
       "(64, 14)"
      ]
     },
     "execution_count": 18,
     "metadata": {},
     "output_type": "execute_result"
    }
   ],
   "source": [
    "df_laptops_unlabeled.shape"
   ]
  },
  {
   "cell_type": "code",
   "execution_count": 19,
   "metadata": {},
   "outputs": [
    {
     "data": {
      "text/html": [
       "<div>\n",
       "<style scoped>\n",
       "    .dataframe tbody tr th:only-of-type {\n",
       "        vertical-align: middle;\n",
       "    }\n",
       "\n",
       "    .dataframe tbody tr th {\n",
       "        vertical-align: top;\n",
       "    }\n",
       "\n",
       "    .dataframe thead th {\n",
       "        text-align: right;\n",
       "    }\n",
       "</style>\n",
       "<table border=\"1\" class=\"dataframe\">\n",
       "  <thead>\n",
       "    <tr style=\"text-align: right;\">\n",
       "      <th></th>\n",
       "      <th>id</th>\n",
       "      <th>Company</th>\n",
       "      <th>TypeName</th>\n",
       "      <th>Ram</th>\n",
       "      <th>Weight</th>\n",
       "      <th>TouchScreen</th>\n",
       "      <th>Ips</th>\n",
       "      <th>Ppi</th>\n",
       "      <th>Cpu_brand</th>\n",
       "      <th>HDD</th>\n",
       "      <th>SSD</th>\n",
       "      <th>Gpu_brand</th>\n",
       "      <th>Os</th>\n",
       "      <th>CalculatedPrice</th>\n",
       "    </tr>\n",
       "  </thead>\n",
       "  <tbody>\n",
       "    <tr>\n",
       "      <th>16</th>\n",
       "      <td>1154</td>\n",
       "      <td>Dell</td>\n",
       "      <td>Notebook</td>\n",
       "      <td>8</td>\n",
       "      <td>2.04</td>\n",
       "      <td>1</td>\n",
       "      <td>1</td>\n",
       "      <td>282.423996</td>\n",
       "      <td>Intel Core i5</td>\n",
       "      <td>0.0</td>\n",
       "      <td>256</td>\n",
       "      <td>Nvidia</td>\n",
       "      <td>Windows</td>\n",
       "      <td>NaN</td>\n",
       "    </tr>\n",
       "    <tr>\n",
       "      <th>29</th>\n",
       "      <td>1137</td>\n",
       "      <td>Dell</td>\n",
       "      <td>Notebook</td>\n",
       "      <td>8</td>\n",
       "      <td>2.50</td>\n",
       "      <td>0</td>\n",
       "      <td>0</td>\n",
       "      <td>100.454670</td>\n",
       "      <td>Intel Core i5</td>\n",
       "      <td>1000.0</td>\n",
       "      <td>0</td>\n",
       "      <td>AMD</td>\n",
       "      <td>Windows</td>\n",
       "      <td>NaN</td>\n",
       "    </tr>\n",
       "    <tr>\n",
       "      <th>5</th>\n",
       "      <td>342</td>\n",
       "      <td>HP</td>\n",
       "      <td>Notebook</td>\n",
       "      <td>8</td>\n",
       "      <td>2.10</td>\n",
       "      <td>0</td>\n",
       "      <td>1</td>\n",
       "      <td>141.211998</td>\n",
       "      <td>Intel Core i3</td>\n",
       "      <td>1000.0</td>\n",
       "      <td>0</td>\n",
       "      <td>Nvidia</td>\n",
       "      <td>Windows</td>\n",
       "      <td>NaN</td>\n",
       "    </tr>\n",
       "    <tr>\n",
       "      <th>24</th>\n",
       "      <td>329</td>\n",
       "      <td>Dell</td>\n",
       "      <td>Notebook</td>\n",
       "      <td>32</td>\n",
       "      <td>2.06</td>\n",
       "      <td>1</td>\n",
       "      <td>0</td>\n",
       "      <td>282.423996</td>\n",
       "      <td>Intel Core i7</td>\n",
       "      <td>0.0</td>\n",
       "      <td>1000</td>\n",
       "      <td>Nvidia</td>\n",
       "      <td>Windows</td>\n",
       "      <td>NaN</td>\n",
       "    </tr>\n",
       "    <tr>\n",
       "      <th>13</th>\n",
       "      <td>43</td>\n",
       "      <td>Acer</td>\n",
       "      <td>Notebook</td>\n",
       "      <td>4</td>\n",
       "      <td>2.20</td>\n",
       "      <td>0</td>\n",
       "      <td>1</td>\n",
       "      <td>141.211998</td>\n",
       "      <td>Intel Core i5</td>\n",
       "      <td>0.0</td>\n",
       "      <td>256</td>\n",
       "      <td>Intel</td>\n",
       "      <td>Windows</td>\n",
       "      <td>NaN</td>\n",
       "    </tr>\n",
       "  </tbody>\n",
       "</table>\n",
       "</div>"
      ],
      "text/plain": [
       "      id Company  TypeName  Ram  Weight  TouchScreen  Ips         Ppi  \\\n",
       "16  1154    Dell  Notebook    8    2.04            1    1  282.423996   \n",
       "29  1137    Dell  Notebook    8    2.50            0    0  100.454670   \n",
       "5    342      HP  Notebook    8    2.10            0    1  141.211998   \n",
       "24   329    Dell  Notebook   32    2.06            1    0  282.423996   \n",
       "13    43    Acer  Notebook    4    2.20            0    1  141.211998   \n",
       "\n",
       "        Cpu_brand     HDD   SSD Gpu_brand       Os  CalculatedPrice  \n",
       "16  Intel Core i5     0.0   256    Nvidia  Windows              NaN  \n",
       "29  Intel Core i5  1000.0     0       AMD  Windows              NaN  \n",
       "5   Intel Core i3  1000.0     0    Nvidia  Windows              NaN  \n",
       "24  Intel Core i7     0.0  1000    Nvidia  Windows              NaN  \n",
       "13  Intel Core i5     0.0   256     Intel  Windows              NaN  "
      ]
     },
     "execution_count": 19,
     "metadata": {},
     "output_type": "execute_result"
    }
   ],
   "source": [
    "df_laptops_unlabeled.sample(5)"
   ]
  },
  {
   "cell_type": "markdown",
   "metadata": {},
   "source": [
    "# 2. Entendimiento y limpieza de los datos"
   ]
  },
  {
   "cell_type": "code",
   "execution_count": 20,
   "metadata": {},
   "outputs": [],
   "source": [
    "# Eleccion de variables relevantes para calcular el precio de un computador\n",
    "features = [\n",
    "    'Company',\n",
    "    'TypeName',\n",
    "    'Ram',\n",
    "    'TouchScreen',\n",
    "    'Ips',\n",
    "    'Ppi',\n",
    "    'Cpu_brand',\n",
    "    'HDD',\n",
    "    'SSD',\n",
    "    'Gpu_brand',\n",
    "    'Os'\n",
    "]"
   ]
  },
  {
   "cell_type": "code",
   "execution_count": 21,
   "metadata": {},
   "outputs": [
    {
     "data": {
      "text/plain": [
       "Price          0.012336\n",
       "Company        0.000000\n",
       "TypeName       0.000000\n",
       "Ram            0.000000\n",
       "TouchScreen    0.000000\n",
       "Ips            0.000000\n",
       "Ppi            0.009868\n",
       "Cpu_brand      0.000000\n",
       "HDD            0.013158\n",
       "SSD            0.000000\n",
       "Gpu_brand      0.000000\n",
       "Os             0.000000\n",
       "dtype: float64"
      ]
     },
     "execution_count": 21,
     "metadata": {},
     "output_type": "execute_result"
    }
   ],
   "source": [
    "# Revisión del porcentaje de valores nulos (vacíos) en cada columna\n",
    "\n",
    "df_laptops_train[['Price']+ features].isnull().sum() / df_laptops_train.shape[0]"
   ]
  },
  {
   "cell_type": "code",
   "execution_count": 22,
   "metadata": {},
   "outputs": [
    {
     "data": {
      "text/plain": [
       "(36, 14)"
      ]
     },
     "execution_count": 22,
     "metadata": {},
     "output_type": "execute_result"
    }
   ],
   "source": [
    "# Eliminar entradas con datos vacíos\n",
    "# Antes de realizar el drop, se genera un informe con los datos que se van a eliminar\n",
    "# .isnull() es igual a .inna()\n",
    "entradas_a_eliminar = df_laptops_train[df_laptops_train[['Price']+ features].isna().any(axis=1)]\n",
    "entradas_a_eliminar.to_csv('./data/entradas_a_eliminar.csv', sep=',', encoding='utf-8', index=False)\n",
    "\n",
    "#conocer entradas eliminadas\n",
    "entradas_a_eliminar.shape"
   ]
  },
  {
   "cell_type": "code",
   "execution_count": 23,
   "metadata": {},
   "outputs": [],
   "source": [
    "# Eliminar entradas con datos vacíos\n",
    "df_laptops_train = df_laptops_train.dropna(subset=['Price']+ features)\n",
    "df_laptops_test_unlabeled = df_laptops_unlabeled.dropna(subset=features)"
   ]
  },
  {
   "cell_type": "code",
   "execution_count": 24,
   "metadata": {},
   "outputs": [
    {
     "data": {
      "text/plain": [
       "(1180, 14)"
      ]
     },
     "execution_count": 24,
     "metadata": {},
     "output_type": "execute_result"
    }
   ],
   "source": [
    "df_laptops_train.shape"
   ]
  }
 ],
 "metadata": {
  "kernelspec": {
   "display_name": "Python 3",
   "language": "python",
   "name": "python3"
  },
  "language_info": {
   "codemirror_mode": {
    "name": "ipython",
    "version": 3
   },
   "file_extension": ".py",
   "mimetype": "text/x-python",
   "name": "python",
   "nbconvert_exporter": "python",
   "pygments_lexer": "ipython3",
   "version": "3.9.0"
  },
  "orig_nbformat": 4
 },
 "nbformat": 4,
 "nbformat_minor": 2
}
